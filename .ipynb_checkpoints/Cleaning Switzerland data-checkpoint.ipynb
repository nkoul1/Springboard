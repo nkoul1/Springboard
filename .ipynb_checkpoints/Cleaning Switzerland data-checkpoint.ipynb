{
 "cells": [
  {
   "cell_type": "code",
   "execution_count": 9,
   "metadata": {
    "collapsed": false
   },
   "outputs": [],
   "source": [
    "\n",
    "import pandas as pd\n",
    "import numpy as np\n",
    "\n",
    "df = pd.read_csv('switzerland.data', header = None)\n",
    "\n",
    "\n",
    "# a = pd.DataFrame()    \n",
    "# dictionary = {}\n",
    "\n",
    "# b = df.iloc[0].str.split(expand = True)           \n",
    "# a = pd.concat([a,b])   \n",
    "    \n",
    "# c = int(b.iloc[0,0])\n",
    "# print(c)\n",
    "# #j = len(c)\n",
    "# #print(j)\n",
    "\n",
    "\n",
    "def clean_data(df):\n",
    "    \n",
    "    a = pd.DataFrame()    \n",
    "    dictionary = {}\n",
    "\n",
    "    b = df.iloc[0].str.split(expand = True)           \n",
    "    a = pd.concat([a,b])   \n",
    "    \n",
    "    c = np.array([b.iloc[0,0]])\n",
    "    print(c)\n",
    "    j = len(c)\n",
    "    print(j)\n",
    "    for i in df.index[1:]:\n",
    "         \n",
    "        \n",
    "        b = b.append(df.iloc[i].str.split(expand = True))           \n",
    "               \n",
    "            \n",
    "        if int(b.iloc[0,0]) > 3000:\n",
    "            \n",
    "            c = np.append(c,b.iloc[0,0])\n",
    "            j = len(c)         \n",
    "            a = pd.DataFrame()\n",
    "            a = pd.concat([a,b])\n",
    "            dictionary[b.iloc[0,0]] = a              \n",
    "            \n",
    "        else:\n",
    "            a = pd.concat([a,b], axis = 1, ignore_index = True)\n",
    "            dictionary[c[j-1]] = a       \n",
    "    \n",
    "    \n",
    "    # new_df = pd.DataFrame.from_dict(dict, orient = 'index')\n",
    "    print(dictionary.keys())\n",
    "    \n",
    "\n",
    "\n",
    "\n",
    "    "
   ]
  },
  {
   "cell_type": "code",
   "execution_count": 6,
   "metadata": {
    "collapsed": false
   },
   "outputs": [
    {
     "name": "stdout",
     "output_type": "stream",
     "text": [
      "3001 0 65 1 1 1 1\n",
      "\n",
      "<type 'str'>\n",
      "18\n"
     ]
    }
   ],
   "source": [
    "file = 'switzerland.data'\n",
    "with open(file,'r') as f:\n",
    "       a = f.readlines()\n",
    "print\n",
    "# b={}\n",
    "# c=[]\n",
    "# z= []\n",
    "# j = 0\n",
    "# for line in a:\n",
    "#     d = line.strip()\n",
    "    \n",
    "#     if int(d[0]) > 3000:\n",
    "#         z = z.append(d)\n",
    "#         b[d[0]] = d\n",
    "#         c = c.append[d[0]]\n",
    "#         j += 1\n",
    "#     else:\n",
    "#         z = z.append(d)\n",
    "#         print(len(c))\n",
    "#         b[c[j-1]] = d\n",
    "\n",
    "# return b.keys()     \n",
    "    \n",
    "        "
   ]
  }
 ],
 "metadata": {
  "kernelspec": {
   "display_name": "Python 2",
   "language": "python",
   "name": "python2"
  },
  "language_info": {
   "codemirror_mode": {
    "name": "ipython",
    "version": 2
   },
   "file_extension": ".py",
   "mimetype": "text/x-python",
   "name": "python",
   "nbconvert_exporter": "python",
   "pygments_lexer": "ipython2",
   "version": "2.7.11"
  }
 },
 "nbformat": 4,
 "nbformat_minor": 0
}
