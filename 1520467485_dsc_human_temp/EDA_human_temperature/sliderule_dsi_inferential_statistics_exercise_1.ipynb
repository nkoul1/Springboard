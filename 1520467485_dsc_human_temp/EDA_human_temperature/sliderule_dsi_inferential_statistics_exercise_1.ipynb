{
 "cells": [
  {
   "cell_type": "markdown",
   "metadata": {},
   "source": [
    "# What is the True Normal Human Body Temperature? \n",
    "\n",
    "#### Background\n",
    "\n",
    "The mean normal body temperature was held to be 37$^{\\circ}$C or 98.6$^{\\circ}$F for more than 120 years since it was first conceptualized and reported by Carl Wunderlich in a famous 1868 book. But, is this value statistically correct?"
   ]
  },
  {
   "cell_type": "markdown",
   "metadata": {},
   "source": [
    "<h3>Exercises</h3>\n",
    "\n",
    "<p>In this exercise, you will analyze a dataset of human body temperatures and employ the concepts of hypothesis testing, confidence intervals, and statistical significance.</p>\n",
    "\n",
    "<p>Answer the following questions <b>in this notebook below and submit to your Github account</b>.</p> \n",
    "\n",
    "<ol>\n",
    "<li>  Is the distribution of body temperatures normal? \n",
    "    <ul>\n",
    "    <li> Although this is not a requirement for the Central Limit Theorem to hold (read the introduction on Wikipedia's page about the CLT carefully: https://en.wikipedia.org/wiki/Central_limit_theorem), it gives us some peace of mind that the population may also be normally distributed if we assume that this sample is representative of the population.\n",
    "    <li> Think about the way you're going to check for the normality of the distribution. Graphical methods are usually used first, but there are also other ways: https://en.wikipedia.org/wiki/Normality_test\n",
    "    </ul>\n",
    "<li>  Is the sample size large? Are the observations independent?\n",
    "    <ul>\n",
    "    <li> Remember that this is a condition for the Central Limit Theorem, and hence the statistical tests we are using, to apply.\n",
    "    </ul>\n",
    "<li>  Is the true population mean really 98.6 degrees F?\n",
    "    <ul>\n",
    "    <li> First, try a bootstrap hypothesis test.\n",
    "    <li> Now, let's try frequentist statistical testing. Would you use a one-sample or two-sample test? Why?\n",
    "    <li> In this situation, is it appropriate to use the $t$ or $z$ statistic? \n",
    "    <li> Now try using the other test. How is the result be different? Why?\n",
    "    </ul>\n",
    "<li>  Draw a small sample of size 10 from the data and repeat both frequentist tests. \n",
    "    <ul>\n",
    "    <li> Which one is the correct one to use? \n",
    "    <li> What do you notice? What does this tell you about the difference in application of the $t$ and $z$ statistic?\n",
    "    </ul>\n",
    "<li>  At what temperature should we consider someone's temperature to be \"abnormal\"?\n",
    "    <ul>\n",
    "    <li> As in the previous example, try calculating everything using the boostrap approach, as well as the frequentist approach.\n",
    "    <li> Start by computing the margin of error and confidence interval. When calculating the confidence interval, keep in mind that you should use the appropriate formula for one draw, and not N draws.\n",
    "    </ul>\n",
    "<li>  Is there a significant difference between males and females in normal temperature?\n",
    "    <ul>\n",
    "    <li> What testing approach did you use and why?\n",
    "    <li> Write a story with your conclusion in the context of the original problem.\n",
    "    </ul>\n",
    "</ol>\n",
    "\n",
    "You can include written notes in notebook cells using Markdown: \n",
    "   - In the control panel at the top, choose Cell > Cell Type > Markdown\n",
    "   - Markdown syntax: http://nestacms.com/docs/creating-content/markdown-cheat-sheet\n",
    "\n",
    "#### Resources\n",
    "\n",
    "+ Information and data sources: http://www.amstat.org/publications/jse/datasets/normtemp.txt, http://www.amstat.org/publications/jse/jse_data_archive.htm\n",
    "+ Markdown syntax: http://nestacms.com/docs/creating-content/markdown-cheat-sheet\n",
    "\n",
    "****"
   ]
  },
  {
   "cell_type": "code",
   "execution_count": 2,
   "metadata": {
    "collapsed": false
   },
   "outputs": [
    {
     "name": "stdout",
     "output_type": "stream",
     "text": [
      "\n"
     ]
    }
   ],
   "source": [
    "import pandas as pd\n",
    "\n",
    "df = pd.read_csv('data/human_body_temperature.csv')\n"
   ]
  },
  {
   "cell_type": "code",
   "execution_count": 3,
   "metadata": {
    "collapsed": false
   },
   "outputs": [
    {
     "name": "stderr",
     "output_type": "stream",
     "text": [
      "C:\\Users\\Python\\Miniconda2\\envs\\tutorial\\lib\\site-packages\\matplotlib\\__init__.py:872: UserWarning: axes.color_cycle is deprecated and replaced with axes.prop_cycle; please use the latter.\n",
      "  warnings.warn(self.msg_depr % (key, alt_key))\n"
     ]
    },
    {
     "data": {
      "image/png": "[encoded data removed]",
      "text/plain": [
       "<matplotlib.figure.Figure at 0xada8898>"
      ]
     },
     "metadata": {},
     "output_type": "display_data"
    },
    {
     "name": "stderr",
     "output_type": "stream",
     "text": [
      "C:\\Users\\Python\\Miniconda2\\envs\\tutorial\\lib\\site-packages\\matplotlib\\__init__.py:892: UserWarning: axes.color_cycle is deprecated and replaced with axes.prop_cycle; please use the latter.\n",
      "  warnings.warn(self.msg_depr % (key, alt_key))\n"
     ]
    },
    {
     "data": {
      "image/png": "[encoded data removed]",
      "text/plain": [
       "<matplotlib.figure.Figure at 0xd5cab38>"
      ]
     },
     "metadata": {},
     "output_type": "display_data"
    }
   ],
   "source": [
    "# Your work here.\n",
    "%matplotlib inline\n",
    "import matplotlib.pyplot as plt\n",
    "import numpy as np\n",
    "import seaborn as sns\n",
    "import scipy.stats as stats\n",
    "\n",
    "sns.set()\n",
    "\n",
    "temp = df['temperature']\n",
    "#1) Is the distribution of body temperatures normal?\n",
    "\n",
    "#Checks for normality include \n",
    "    #1) graphically using a histogram \n",
    "plt.figure(1)\n",
    "\n",
    "temp_size = len(temp)\n",
    "bins_temp = np.sqrt(temp_size)\n",
    "bins_temp = int(bins_temp)\n",
    "_ = plt.hist(temp, bins= bins_temp)\n",
    "_ = plt.xlabel('Temperature Degrees F') \n",
    "_ = plt.ylabel('Count') \n",
    "\n",
    "plt.show()\n",
    "\n",
    "plt.figure(2)\n",
    "\n",
    "_ = sns.boxplot('temperature',data = df)\n",
    "\n",
    "plt.show()\n",
    "\n",
    "#Answer 1) The histogram reveals that the data is not normal and is actually postively skewed.\n",
    "        #  The box plot of the data confirms that the skew is not the result of outliers    "
   ]
  },
  {
   "cell_type": "code",
   "execution_count": 4,
   "metadata": {
    "collapsed": true
   },
   "outputs": [],
   "source": [
    "#2) Is the sample size large? Are the observations independent?\n",
    "\n",
    "#Answer 2) The Central Limit Theorem requires a sample size of at least 30 so the sample of 130 collected here would be considered large\n",
    "        #  The observations are independent becasue the Human population is around 7 billion and our sample of 130 is much less than 10% of the whole population"
   ]
  },
  {
   "cell_type": "code",
   "execution_count": 7,
   "metadata": {
    "collapsed": false
   },
   "outputs": [
    {
     "name": "stdout",
     "output_type": "stream",
     "text": [
      "population mean = 98.6\n",
      "sample mean = 98.2492307692\n",
      "diff_observed = 0.350769230769\n",
      "p_value_bootstrap = 0.0\n",
      "z-score = -5.45482329236 , p_value = 2.45107850705e-08\n",
      "t-score = -5.45482329236 , p_value = 1.20531602078e-07\n"
     ]
    }
   ],
   "source": [
    "#3) Is the true population mean really 98.6 degrees F?    \n",
    "cw_temp = 98.6\n",
    "print 'population mean =',cw_temp\n",
    "print 'sample mean =', np.mean(temp)\n",
    "#3a) First, try a bootstrap hypothesis test\n",
    "\n",
    "\n",
    "#bootstrap hypothesis test\n",
    "#h_0 = the true mean body temperature of a person is 98.6 degrees F \n",
    "#alpha(a) = 0.05\n",
    "#test statistic\n",
    "    # the difference between the mean of our sample data and the mean previously stated\n",
    "    # sample_mean - cw_temp \n",
    "\n",
    "#function calculating the difference between the sample mean and the assumed mean\n",
    "def diff_from_cw(data, cw_temp = 98.6):\n",
    "    return cw_temp - np.mean(data)\n",
    "\n",
    "diff_observed = diff_from_cw(temp)\n",
    "print 'diff_observed =',diff_observed\n",
    "\n",
    "#shift data to simulate a sample where h_0 is true\n",
    "temp_shifted = temp - np.mean(temp) + cw_temp\n",
    "\n",
    "#function to draw bootstrap replicates a given data set \n",
    "def bootstrap_samples(data, function, reps = 1):\n",
    "        \"\"\"Draw bootstrap replicates.\"\"\"\n",
    "        bs_replicates = np.empty(reps)\n",
    "        \n",
    "        for i in range(reps):\n",
    "            bs_sampling = np.random.choice(data, size = len(data))\n",
    "            bs_replicates[i] = function(bs_sampling)\n",
    "            \n",
    "        return bs_replicates\n",
    "\n",
    "# draw bootstrap samples for the difference between a sample mean from our shifted data and the assumed mean 98.6    \n",
    "bs_1 = bootstrap_samples(temp_shifted, diff_from_cw, reps = 10000)\n",
    "#calculate the percent of samples drawn that have a larger difference than our observed difference\n",
    "p_value = np.sum(bs_1 > diff_observed) / float(10000) \n",
    "print 'p_value_bootstrap =', p_value\n",
    "\n",
    "# Answer: If the true population mean is 98.6 there is a ~= 0% chance that the difference between our sample mean and the population mean would occur\n",
    "#         Therefore we reject the null hypothesis h_o that states 98.6 is the true population mean\n",
    "\n",
    "\n",
    "#3b) Now, let's try frequentist statistical testing. Would you use a one-sample or two-sample test? Why?\n",
    "\n",
    "#Answer: use a one sample test because we only have one sample of data. The only information we have on the population is that the mean is supposedly 98.6\n",
    "\n",
    "#3c) In this situation, is it appropriate to use the t or z statistic?\n",
    "\n",
    "#Answer: use a z statistic because we have a large number of samples\n",
    "\n",
    "#h_o: population mean = 98.6\n",
    "#h_a: population mean != 98.6\n",
    "\n",
    "# Z = (sample_mean - Assumed population mean) / std(sampling distribution)\n",
    "# Since no standard deviation given for the population estimate it with std(sample)/sqrt(n)\n",
    "\n",
    "z_score = (np.mean(temp) - 98.6) / (np.std(temp, ddof =1)/np.sqrt(len(temp)))\n",
    "p_value_z = stats.norm.sf(abs(z_score)) \n",
    "print 'z-score =', z_score,', p_value =', p_value_z\n",
    "\n",
    "\n",
    "# Answer: If we assume the true population mean is 98.6 then the z-score of our sample mean is -5.47 which would put our sample mean well over the 99th%. \n",
    "#         This means the chance that we would derive our sample mean from a population where 98.6 is the mean is ~= 0%\n",
    "#         Therefore we reject h_0 \n",
    "\n",
    "\n",
    "\n",
    "\n",
    "#3d) Now try using the other test. How is the result be different? Why?\n",
    "\n",
    "t_score, p_value_t = stats.ttest_1samp(temp, 98.6)\n",
    "print 't-score =', t_score,', p_value =', p_value_t/2\n",
    "\n",
    "# Answer: the result from the t-statistic would be the same because n is 130 which is >= 30"
   ]
  },
  {
   "cell_type": "code",
   "execution_count": 8,
   "metadata": {
    "collapsed": false
   },
   "outputs": [
    {
     "name": "stdout",
     "output_type": "stream",
     "text": [
      "population mean = 98.6\n",
      "sample mean = 98.45\n",
      "z-score = -0.807572853087 , p_value = 0.209668259792\n",
      "t-score = -0.807572853087 , p_value = 0.220078764826\n"
     ]
    }
   ],
   "source": [
    "# 4) Draw a small sample of size 10 from the data and repeat both frequentist tests.\n",
    "#        Which one is the correct one to use?\n",
    "#        What do you notice? What does this tell you about the difference in application of the t and z statistic\n",
    "\n",
    "#Answer: The t statistic is the correct one to use because the sample size is samll (n <= 30)\n",
    "#Answer: Both z and t are equal every time, however the p_values associated with them are much different when n< 30 becasue they are take from different distributions.\n",
    "\n",
    "small_sample = np.random.choice(temp, size = 10)\n",
    "#h_0: population mean is 98.6\n",
    "#h_a: population mean != 98.6\n",
    "print 'population mean =', 98.6\n",
    "print 'sample mean =',np.mean(small_sample)\n",
    "#Z-score and p-value\n",
    "z_score_1 = (np.mean(small_sample) - 98.6) / (np.std(small_sample, ddof =1) / np.sqrt(len(small_sample)))\n",
    "p_value_z_1 = stats.norm.sf(abs(z_score_1)) \n",
    "# p_value_z from z_table \n",
    "print 'z-score =', z_score_1,', p_value =', p_value_z_1\n",
    "\n",
    "#T-score and p-value \n",
    "#returns two sided p_value so divide by 2\n",
    "t_score_1, p_value_t_1 = stats.ttest_1samp(small_sample, 98.6)\n",
    "\n",
    "# p_value_t from t_table with df = 10 - 1 = 9 \n",
    "print 't-score =', t_score_1,', p_value =', p_value_t_1/2\n",
    "\n",
    "\n",
    "        "
   ]
  },
  {
   "cell_type": "code",
   "execution_count": 17,
   "metadata": {
    "collapsed": false
   },
   "outputs": [
    {
     "name": "stdout",
     "output_type": "stream",
     "text": [
      "Confidence_Interval_f: 98.2492307692 +- 0.165637201239\n",
      "Confidence_Interval_b: 98.2497774615 +- 0.164673442563\n"
     ]
    }
   ],
   "source": [
    "#5) At what temperature should we consider someone's temperature to be \"abnormal\"?\n",
    "#       As in the previous example, try calculating everything using the boostrap approach, as well as the frequentist approach.\n",
    "#       Start by computing the margin of error and confidence interval. When calculating the confidence interval, \n",
    "#       keep in mind that you should use the appropriate formula for one draw, and not N draws.\n",
    "\n",
    "#Answer: A average temperature of over multiple readings of 98.4 would be would be considered abnormal as it would put someone in the 99% or all body temperatures \n",
    "\n",
    "#frequentist 99% confidence interval\n",
    "mean  = np.mean(temp)\n",
    "std = np.std(temp, ddof =1) / np.sqrt(len(temp))\n",
    "# use .995 b/c one sided\n",
    "z_score = stats.norm.ppf(.995)\n",
    "Margin_of_Error = std * z_score\n",
    "\n",
    "print 'Confidence_Interval_f:', mean, \"+-\", Margin_of_Error\n",
    "\n",
    "\n",
    "\n",
    "def bootstrap_confidence_interval(data,size = 1,ci = .99):\n",
    "    bs_reps = np.empty(size)\n",
    "    \n",
    "    for i in range(size):\n",
    "        temp = np.random.choice(data, size = len(data))\n",
    "        \n",
    "        bs_reps[i] = np.mean(temp)\n",
    "    \n",
    "    std = np.std(bs_reps, ddof = 1)\n",
    "    mean = np.mean(bs_reps)\n",
    "    ci = (1-ci)/2\n",
    "    z_score = stats.norm.ppf(1-ci)\n",
    "    margin_of_error = std * z_score \n",
    "\n",
    "    print 'Confidence_Interval_b:', mean, \"+-\", margin_of_error\n",
    "\n",
    "bootstrap_confidence_interval(temp,size = 10000) \n",
    "\n"
   ]
  },
  {
   "cell_type": "code",
   "execution_count": 10,
   "metadata": {
    "collapsed": false
   },
   "outputs": [
    {
     "name": "stdout",
     "output_type": "stream",
     "text": [
      "reject h_0, there is a difference between the means\n"
     ]
    }
   ],
   "source": [
    "#6    \n",
    "    # Is there a significant difference between males and females in normal temperature?\n",
    "    # What testing approach did you use and why?\n",
    "    # Write a story with your conclusion in the context of the original problem.\n",
    "\n",
    "df.head()\n",
    "df_2 = df.loc[:,['temperature','gender']]\n",
    "\n",
    "male = df_2[df_2['gender'] == 'M']\n",
    "female = df_2[df_2['gender'] == 'F']\n",
    "n_m = float(len(male))\n",
    "n_f = float(len(female))\n",
    "mean_male = np.mean(male)\n",
    "mean_female = np.mean(female)\n",
    "std_male = np.std(male, ddof =1)\n",
    "std_female = np.std(female, ddof =1)\n",
    "\n",
    "\n",
    "#h_0: no difference between the mean temperature of males and females: male - female = 0\n",
    "#h_a: difference between the mean temperatures of males and females: male - female != 0\n",
    "#alpha = 0.05, so z_crit = 1.65\n",
    "\n",
    "z_crit = 1.65\n",
    "observed_diff = abs(mean_male - mean_female)\n",
    "std_combined = np.sqrt((std_male**2/n_m) + (std_female**2/n_f))\n",
    "\n",
    "#diff past critical value is statiscally different from assumed mean\n",
    "critical_diff = z_crit * std_combined\n",
    "\n",
    "if observed_diff[0] > critical_diff[0]:\n",
    "    print 'reject h_0, there is a difference between the means'    \n",
    "else:\n",
    "    print 'reject h_a'"
   ]
  },
  {
   "cell_type": "markdown",
   "metadata": {},
   "source": [
    "There is a statiscally significant difference between the mean body temp of males and females. This means that when attempting to calculate the average human body temperature you should split the population into either male or female and determine the mean of each individually. Otherwise, sampling error will make it impossible to get a consistent mean across different samples. This is because a sample of 100 men and 100 women will return different mean body temperatures, becasue there temperature values are from different distributions, but could still be called a human average."
   ]
  }
 ],
 "metadata": {
  "kernelspec": {
   "display_name": "Python 2",
   "language": "python",
   "name": "python2"
  },
  "language_info": {
   "codemirror_mode": {
    "name": "ipython",
    "version": 2
   },
   "file_extension": ".py",
   "mimetype": "text/x-python",
   "name": "python",
   "nbconvert_exporter": "python",
   "pygments_lexer": "ipython2",
   "version": "2.7.11"
  }
 },
 "nbformat": 4,
 "nbformat_minor": 1
}
