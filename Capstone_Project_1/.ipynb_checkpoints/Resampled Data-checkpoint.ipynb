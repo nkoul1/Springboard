{
 "cells": [
  {
   "cell_type": "code",
   "execution_count": null,
   "metadata": {
    "collapsed": true,
    "deletable": true,
    "editable": true
   },
   "outputs": [],
   "source": [
    "#All necessary imports \n",
    "\n",
    "#basic\n",
    "import pandas as pd\n",
    "import numpy as np\n",
    "#plotting/data visualization\n",
    "import matplotlib.pyplot as plt\n",
    "import itertools\n",
    "from sklearn.manifold import TSNE\n",
    "from sklearn.decomposition import PCA\n",
    "%matplotlib inline\n",
    "#catboost model imports\n",
    "from catboost import CatBoostClassifier\n",
    "from catboost import Pool\n",
    "#model data preproceeing\n",
    "from sklearn.model_selection import train_test_split\n",
    "from imblearn.pipeline import Pipeline \n",
    "#Upsampling methods\n",
    "from imblearn.combine import SMOTETomek\n",
    "from imblearn.combine import SMOTEENN\n",
    "#Undersampling methods\n",
    "from imblearn.under_sampling import CondensedNearestNeighbour #([…])\tClass to perform under-sampling based on the condensed nearest neighbour method.\n",
    "from imblearn.under_sampling import EditedNearestNeighbours #([…])\tClass to perform under-sampling based on the edited nearest neighbour method.\n",
    "from imblearn.under_sampling import RepeatedEditedNearestNeighbours #([…])\tClass to perform under-sampling based on the repeated edited nearest neighbour method.\n",
    "from imblearn.under_sampling import AllKNN #([ratio, …])\tClass to perform under-sampling based on the AllKNN method.\n",
    "from imblearn.under_sampling import InstanceHardnessThreshold #([…])\tClass to perform under-sampling based on the instance hardness threshold.\n",
    "from imblearn.under_sampling import NearMiss #([ratio, …])\tClass to perform under-sampling based on NearMiss methods.\n",
    "from imblearn.under_sampling import NeighbourhoodCleaningRule #([…])\tClass performing under-sampling based on the neighbourhood cleaning rule.\n",
    "from imblearn.under_sampling import OneSidedSelection #([ratio, …])\tClass to perform under-sampling based on one-sided selection method.\n",
    "from imblearn.under_sampling import RandomUnderSampler #([ratio, …])\tClass to perform random under-sampling.\n",
    "from imblearn.under_sampling import TomekLinks #([ratio, …])\n",
    "#model evalution\n",
    "from sklearn.metrics import classification_report\n",
    "from sklearn.metrics import confusion_matrix\n",
    "\n",
    "print \"done\"\n",
    "\n"
   ]
  },
  {
   "cell_type": "code",
   "execution_count": null,
   "metadata": {
    "collapsed": true,
    "deletable": true,
    "editable": true
   },
   "outputs": [],
   "source": [
    "# Data"
   ]
  },
  {
   "cell_type": "code",
   "execution_count": null,
   "metadata": {
    "collapsed": true,
    "deletable": true,
    "editable": true
   },
   "outputs": [],
   "source": [
    "#calling math csv into dataframe\n",
    "df_math = pd.read_csv('data/student-mat.csv',delimiter = ';',header=0)\n",
    "#lang\n",
    "df_lang = pd.read_csv('data/student-por.csv',delimiter= ';',header=0)\n",
    "\n",
    "#creating feature_data (X) and label data (y) for each df\n",
    "#the cat dataframes do not have dummy variables b/c catboost has its own method for dealing with categoricals\n",
    "\n",
    "#math\n",
    "y_math = [1 if i >= 10 else 0 for i in df_math['G3']]\n",
    "X_math_cat= df_math.drop(['G1','G2','G3'], axis = 1)\n",
    "###\n",
    "\n",
    "\n",
    "y_lang = [1 if i >= 10 else 0 for i in df_lang['G3']]\n",
    "X_lang_cat= df_lang.drop(['G1','G2','G3'], axis = 1)\n",
    "###\n",
    "###creating math and lang df's with dummy variables for non_catboost models\n",
    "X_math = pd.get_dummies(X_math_cat, drop_first = True)\n",
    "###\n",
    "X_lang = pd.get_dummies(X_lang_cat, drop_first = True)\n",
    "\n",
    "\n",
    "#creating a class labels array for future use\n",
    "y_math_labels = ['Pass' if i == 1  else 'Fail' for i in y_math]\n",
    "y_lang_labels = ['Pass' if i == 1  else 'Fail' for i in y_lang ]\n",
    "#creating A class names list for future use\n",
    "class_names = ['Pass', 'Fail']\n",
    "\n",
    "print \"done\"\n",
    "\n"
   ]
  },
  {
   "cell_type": "code",
   "execution_count": null,
   "metadata": {
    "collapsed": true,
    "deletable": true,
    "editable": true
   },
   "outputs": [],
   "source": [
    "#create separate dataframes for students from both schools for both classes\n",
    "#GP\n",
    "df_math_gp = df_math[df_math['school'] == 'GP']\n",
    "df_lang_gp = df_lang[df_lang['school'] == 'GP']\n",
    "#MS\n",
    "df_math_ms = df_math[df_math['school'] == 'MS']\n",
    "df_lang_ms = df_lang[df_lang['school'] == 'MS']\n",
    "\n",
    "\n",
    "#creating feature data (X) for each class and school\n",
    "X_math_gp = df_math_gp.drop(['G1','G2','G3'], axis = 1)\n",
    "X_lang_gp = df_lang_gp.drop(['G1','G2','G3'], axis = 1)\n",
    "#MS\n",
    "X_math_ms = df_math_ms.drop(['G1','G2','G3'], axis = 1)\n",
    "X_lang_ms = df_lang_ms.drop(['G1','G2','G3'], axis = 1)\n",
    "\n",
    "#Label data (y)\n",
    "y_math_gp = [1 if i >= 10 else 0 for i in df_math_gp['G3']]\n",
    "y_lang_gp = [1 if i >= 10 else 0 for i in df_lang_gp['G3']]\n",
    "#MS\n",
    "y_math_ms = [1 if i >= 10 else 0 for i in df_math_ms['G3']]\n",
    "y_lang_ms = [1 if i >= 10 else 0 for i in df_lang_ms['G3']]\n",
    "\n",
    "\n",
    "\n",
    "# Creating df's with dummy columns for each \n",
    "\n",
    "print \"done\"\n",
    "\n"
   ]
  },
  {
   "cell_type": "code",
   "execution_count": null,
   "metadata": {
    "collapsed": true,
    "deletable": true,
    "editable": true
   },
   "outputs": [],
   "source": [
    "# TSNE and PCA models for visualization\n"
   ]
  },
  {
   "cell_type": "code",
   "execution_count": null,
   "metadata": {
    "collapsed": true,
    "deletable": true,
    "editable": true
   },
   "outputs": [],
   "source": [
    "#TSNE and PCA models used for visualization\n",
    "tsne = TSNE(learning_rate = 150)\n",
    "pca = PCA()\n",
    "\n",
    "#TSNE models\n",
    "math_tsne = tsne.fit_transform(X_math)\n",
    "lang_tsne = tsne.fit_transform(X_lang)\n",
    "\n",
    "#PCA models\n",
    "math_pca = pca.fit_transform(X_math)\n",
    "lang_pca = pca.fit_transform(X_lang)\n",
    "\n",
    "\n",
    "print \"done\"\n"
   ]
  },
  {
   "cell_type": "code",
   "execution_count": null,
   "metadata": {
    "collapsed": true,
    "deletable": true,
    "editable": true
   },
   "outputs": [],
   "source": [
    "# fig,sca = plt.subplots(2,2)\n",
    "# plt.sca(sca[0,0])\n",
    "# plt.scatter([1,2,3,4],[1,2,3,4])\n",
    "# plt.sca(sca[0,1])\n",
    "# plt.scatter([1,3,5,7],[2,6,8,10])\n",
    "# plt.show()"
   ]
  },
  {
   "cell_type": "code",
   "execution_count": null,
   "metadata": {
    "collapsed": true,
    "deletable": true,
    "editable": true
   },
   "outputs": [],
   "source": [
    "# TSNE and PCA plots"
   ]
  },
  {
   "cell_type": "code",
   "execution_count": null,
   "metadata": {
    "collapsed": true,
    "deletable": true,
    "editable": true
   },
   "outputs": [],
   "source": [
    "fig,sca = plt.subplots(2,2,figsize=(10,10))\n",
    "#Math both schools TSNE Plot\n",
    "\n",
    "plt.sca(sca[0,0])\n",
    "plt.scatter(math_tsne[:,0],math_tsne[:,1],c=y_math)\n",
    "plt.title('All Math students TSNE plot')\n",
    "#plt.legend(loc= 'upper right')\n",
    "\n",
    "#Lang both schools TSNE Plot\n",
    "plt.sca(sca[0,1])\n",
    "plt.scatter(lang_tsne[:,0],lang_tsne[:,1],c=y_lang)\n",
    "plt.title('All Lang students TSNE plot')\n",
    "\n",
    "#math both schools PCA plot\n",
    "plt.sca(sca[1,0])\n",
    "plt.scatter(math_pca[:,0],math_pca[:,1],c=y_math)\n",
    "plt.title('All Math students PCA plot')\n",
    "#plt.legend(loc= 'upper right')\n",
    "\n",
    "#Lang both schools PCA Plot\n",
    "plt.sca(sca[1,1])\n",
    "plt.scatter(lang_pca[:,0],lang_pca[:,1],c=y_lang)\n",
    "plt.title('All Lang students PCA plot')\n",
    "\n",
    "##Figure out legends and add them in later\n",
    "##go watch and finish the data visualization videos later this week or next weekend\n",
    "\n",
    "print \"done\"\n",
    "\n",
    "\n",
    "plt.plot()"
   ]
  },
  {
   "cell_type": "code",
   "execution_count": null,
   "metadata": {
    "collapsed": true,
    "deletable": true,
    "editable": true
   },
   "outputs": [],
   "source": [
    "Both the PCA and TSNE plots above show that there is very little discernable difference between the students who pass and the students who fail. This will make it hard for any classifier to predict pass or fail for any given student. This could be due to the fact that some students that are failing are outliers and their data points should be treated as noise. It could also be that there are other factors that play into passing or failing that the dataset fails to capture and as a results mixing between the two labels pass and fail occur.\n",
    "Earlier it was show that   \n",
    "\n",
    "## Come back and finish this; make plots for each individual school as well"
   ]
  },
  {
   "cell_type": "code",
   "execution_count": null,
   "metadata": {
    "collapsed": true,
    "deletable": true,
    "editable": true
   },
   "outputs": [],
   "source": [
    "#splitting y_math and X_math into test and train sets\n",
    "X_train,X_test,y_train,y_test = train_test_split(X_math, y_math, test_size = 0.3, random_state = 16, stratify= y_math)\n",
    "\n",
    "print \"done\"\n"
   ]
  },
  {
   "cell_type": "code",
   "execution_count": null,
   "metadata": {
    "collapsed": true,
    "deletable": true,
    "editable": true
   },
   "outputs": [],
   "source": [
    "## Resampled Data Sets \n"
   ]
  },
  {
   "cell_type": "code",
   "execution_count": null,
   "metadata": {
    "collapsed": true,
    "deletable": true,
    "editable": true
   },
   "outputs": [],
   "source": [
    "Becasue there are many more passes than fails the data set needs to be resampled so that the model has enough failure training points to be able to discern them from pass points in future test sets."
   ]
  },
  {
   "cell_type": "code",
   "execution_count": null,
   "metadata": {
    "collapsed": true,
    "deletable": true,
    "editable": true
   },
   "outputs": [],
   "source": [
    "## Umsampling minority class (fail) with SMOTE + Tomek and SMOTE + ENN"
   ]
  },
  {
   "cell_type": "code",
   "execution_count": null,
   "metadata": {
    "collapsed": true,
    "deletable": true,
    "editable": true
   },
   "outputs": [],
   "source": [
    "pca = PCA()\n",
    "pca.fit(X_math)\n",
    "#upsampling using smote and tomek's links to clean the upsampled data\n",
    "smto = SMOTETomek(random_state = 16)\n",
    "X_train_resampled, y_train_resampled = smto.fit_sample(X_train, y_train)\n",
    "X_res_vis = pca.transform(X_train_resampled)\n",
    "\n",
    "#Using SMOTE with EEN cleaning, EEN performs better with noisy samples\n",
    "smen = SMOTEENN(random_state = 16)\n",
    "X_train_resampled_1, y_train_resampled_1 = smen.fit_sample(X_train, y_train)\n",
    "X_res_vis_1 = pca.transform(X_train_resampled_1)\n",
    "\n",
    "print \"done\""
   ]
  },
  {
   "cell_type": "code",
   "execution_count": null,
   "metadata": {
    "collapsed": true,
    "deletable": true,
    "editable": true
   },
   "outputs": [],
   "source": [
    "# visualizing umsampled data sets"
   ]
  },
  {
   "cell_type": "code",
   "execution_count": null,
   "metadata": {
    "collapsed": true,
    "deletable": true,
    "editable": true
   },
   "outputs": [],
   "source": [
    "fig,sca = plt.subplots(3,1,figsize=(15,15))\n",
    "\n",
    "#Original Math PCA plot\n",
    "plt.sca(sca[0])\n",
    "plt.scatter(math_pca[:,0],math_pca[:,1],c=y_math)\n",
    "plt.title('Original PCA plot')\n",
    "\n",
    "#SMOTE Toemk plot\n",
    "plt.sca(sca[1])\n",
    "plt.scatter(X_res_vis[:,0],X_res_vis[:,1], c = y_train_resampled)\n",
    "plt.title('SMOTE-Tomek PCA plot')\n",
    "\n",
    "\n",
    "#SMOTE ENN plot\n",
    "plt.sca(sca[2])\n",
    "plt.scatter(X_res_vis_1[:,0],X_res_vis_1[:,1], c = y_train_resampled_1)\n",
    "plt.title('SMOTE-EEN PCA plot')\n",
    "\n",
    "print 'Done'\n",
    "plt.show()"
   ]
  },
  {
   "cell_type": "code",
   "execution_count": null,
   "metadata": {
    "collapsed": true,
    "deletable": true,
    "editable": true
   },
   "outputs": [],
   "source": [
    "# Undersampling Majority Class w/ various Undersamplers\n"
   ]
  },
  {
   "cell_type": "code",
   "execution_count": null,
   "metadata": {
    "collapsed": true,
    "deletable": true,
    "editable": true
   },
   "outputs": [],
   "source": [
    "cnn = CondensedNearestNeighbour(random_state = 16)\n",
    "X_train_resampled_cnn, y_train_resampled_cnn = cnn.fit_sample(X_train, y_train)\n",
    "X_res_vis_cnn = pca.transform(X_train_resampled_cnn)\n",
    "\n",
    "enn = EditedNearestNeighbours(random_state = 16, kind_sel = 'mode')\n",
    "X_train_resampled_enn, y_train_resampled_enn = enn.fit_sample(X_train, y_train)\n",
    "X_res_vis_enn = pca.transform(X_train_resampled_enn)\n",
    "\n",
    "renn = RepeatedEditedNearestNeighbours(random_state = 16)\n",
    "X_train_resampled_renn, y_train_resampled_renn = renn.fit_sample(X_train, y_train)\n",
    "X_res_vis_renn = pca.transform(X_train_resampled_renn)\n",
    "\n",
    "aknn = AllKNN(random_state = 16)\n",
    "X_train_resampled_aknn, y_train_resampled_aknn = aknn.fit_sample(X_train, y_train)\n",
    "X_res_vis_aknn = pca.transform(X_train_resampled_aknn)\n",
    "\n",
    "\n",
    "\n",
    "iht = InstanceHardnessThreshold(random_state = 16)\n",
    "X_train_resampled_iht, y_train_resampled_iht = iht.fit_sample(X_train, y_train)\n",
    "X_res_vis_iht = pca.transform(X_train_resampled_iht)\n",
    "\n",
    "nm = NearMiss(random_state = 16)\n",
    "X_train_resampled_nm, y_train_resampled_nm = nm.fit_sample(X_train, y_train)\n",
    "X_res_vis_nm = pca.transform(X_train_resampled_nm)\n",
    "\n",
    "ncr = NeighbourhoodCleaningRule(random_state = 16)\n",
    "X_train_resampled_ncr, y_train_resampled_ncr = ncr.fit_sample(X_train, y_train)\n",
    "X_res_vis_ncr = pca.transform(X_train_resampled_ncr)\n",
    "\n",
    "oss = OneSidedSelection(random_state = 16)\n",
    "X_train_resampled_oss, y_train_resampled_oss = oss.fit_sample(X_train, y_train)\n",
    "X_res_vis_oss = pca.transform(X_train_resampled_oss)\n",
    "\n",
    "\n",
    "rus = RandomUnderSampler(random_state = 16)\n",
    "X_train_resampled_rus, y_train_resampled_rus = rus.fit_sample(X_train, y_train)\n",
    "X_res_vis_rus = pca.transform(X_train_resampled_rus)\n",
    "\n",
    "tomek = TomekLinks(random_state = 16)\n",
    "X_train_resampled_tomek, y_train_resampled_tomek = tomek.fit_sample(X_train, y_train)\n",
    "X_res_vis_tomek = pca.transform(X_train_resampled_tomek)\n"
   ]
  },
  {
   "cell_type": "code",
   "execution_count": null,
   "metadata": {
    "collapsed": true,
    "deletable": true,
    "editable": true
   },
   "outputs": [],
   "source": [
    "# Undersampled Plots"
   ]
  },
  {
   "cell_type": "code",
   "execution_count": null,
   "metadata": {
    "collapsed": true,
    "deletable": true,
    "editable": true
   },
   "outputs": [],
   "source": [
    "fig,sca = plt.subplots(11,1,figsize=(30,30))\n",
    "\n",
    "#Original Math PCA plot\n",
    "plt.sca(sca[0])\n",
    "plt.scatter(math_pca[:,0],math_pca[:,1],c=y_math)\n",
    "plt.title('Original PCA plot')\n",
    "\n",
    "#CNN plot\n",
    "plt.sca(sca[1])\n",
    "plt.scatter(X_res_vis_cnn[:,0],X_res_vis_cnn[:,1], c = y_train_resampled_cnn)\n",
    "plt.title('CNN PCA plot')\n",
    "\n",
    "#ENN plot\n",
    "plt.sca(sca[2])\n",
    "plt.scatter(X_res_vis_enn[:,0],X_res_vis_enn[:,1], c = y_train_resampled_enn)\n",
    "plt.title('EEN PCA plot')\n",
    "\n",
    "#RENN plot\n",
    "plt.sca(sca[3])\n",
    "plt.scatter(X_res_vis_renn[:,0],X_res_vis_renn[:,1], c = y_train_resampled_renn)\n",
    "plt.title('REEN PCA plot')\n",
    "\n",
    "#AKNN plot\n",
    "plt.sca(sca[4])\n",
    "plt.scatter(X_res_vis_aknn[:,0],X_res_vis_aknn[:,1], c = y_train_resampled_aknn)\n",
    "plt.title('AKNN PCA plot')\n",
    "\n",
    "#Instance Hardness plot\n",
    "plt.sca(sca[5])\n",
    "plt.scatter(X_res_vis_iht[:,0],X_res_vis_iht[:,1], c = y_train_resampled_iht)\n",
    "plt.title('IHT PCA plot')\n",
    "\n",
    "#NearMiss plot\n",
    "plt.sca(sca[6])\n",
    "plt.scatter(X_res_vis_nm[:,0],X_res_vis_nm[:,1], c = y_train_resampled_nm)\n",
    "plt.title('NM PCA plot')\n",
    "\n",
    "#NCR plot\n",
    "plt.sca(sca[7])\n",
    "plt.scatter(X_res_vis_ncr[:,0],X_res_vis_ncr[:,1], c = y_train_resampled_ncr)\n",
    "plt.title('NCR PCA plot')\n",
    "\n",
    "#OneSS plot\n",
    "plt.sca(sca[8])\n",
    "plt.scatter(X_res_vis_oss[:,0],X_res_vis_oss[:,1], c = y_train_resampled_oss)\n",
    "plt.title('OSS PCA plot')\n",
    "\n",
    "#RandomUS plot\n",
    "plt.sca(sca[9])\n",
    "plt.scatter(X_res_vis_rus[:,0],X_res_vis_rus[:,1], c = y_train_resampled_rus)\n",
    "plt.title('RUS PCA plot')\n",
    "\n",
    "#Tomek plot\n",
    "plt.sca(sca[10])\n",
    "plt.scatter(X_res_vis_tomek[:,0],X_res_vis_tomek[:,1], c = y_train_resampled_tomek)\n",
    "plt.title('TOMEK PCA plot')\n",
    "print 'Done'\n",
    "\n",
    "\n",
    "plt.show()"
   ]
  },
  {
   "cell_type": "code",
   "execution_count": null,
   "metadata": {
    "collapsed": true,
    "deletable": true,
    "editable": true
   },
   "outputs": [],
   "source": []
  }
 ],
 "metadata": {
  "kernelspec": {
   "display_name": "Python 2",
   "language": "python",
   "name": "python2"
  },
  "language_info": {
   "codemirror_mode": {
    "name": "ipython",
    "version": 2
   },
   "file_extension": ".py",
   "mimetype": "text/x-python",
   "name": "python",
   "nbconvert_exporter": "python",
   "pygments_lexer": "ipython2",
   "version": "2.7.11"
  }
 },
 "nbformat": 4,
 "nbformat_minor": 0
}
