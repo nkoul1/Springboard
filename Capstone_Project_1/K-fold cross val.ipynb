{
 "cells": [
  {
   "cell_type": "code",
   "execution_count": 1,
   "metadata": {
    "collapsed": false,
    "deletable": true,
    "editable": true
   },
   "outputs": [
    {
     "name": "stdout",
     "output_type": "stream",
     "text": [
      "done\n"
     ]
    }
   ],
   "source": [
    "from sklearn.model_selection import KFold\n",
    "from sklearn.model_selection import cross_val_score\n",
    "from xgboost import XGBClassifier\n",
    "import pandas as pd\n",
    "import numpy as np\n",
    "from hyperopt import fmin, tpe, Trials, STATUS_OK, space_eval, hp\n",
    "from sklearn.model_selection import train_test_split\n",
    "from sklearn.metrics import roc_auc_score, roc_curve\n",
    "from imblearn.metrics import geometric_mean_score\n",
    "from sklearn.metrics import roc_curve, auc\n",
    "import matplotlib.pyplot as plt\n",
    "\n",
    "%matplotlib inline\n",
    "\n",
    "print \"done\"\n"
   ]
  },
  {
   "cell_type": "code",
   "execution_count": 2,
   "metadata": {
    "collapsed": false,
    "deletable": true,
    "editable": true
   },
   "outputs": [
    {
     "name": "stdout",
     "output_type": "stream",
     "text": [
      "done\n"
     ]
    }
   ],
   "source": [
    "#calling math csv into dataframe\n",
    "df_math = pd.read_csv('data/student-mat.csv',delimiter = ';',header=0)\n",
    "#lang\n",
    "df_lang = pd.read_csv('data/student-por.csv',delimiter= ';',header=0)\n",
    "\n",
    "#creating feature_data (X) and label data (y) for each df\n",
    "#the cat dataframes do not have dummy variables b/c catboost has its own method for dealing with categoricals\n",
    "\n",
    "#math\n",
    "y_math = [1 if i >= 10 else 0 for i in df_math['G3']]\n",
    "X_math_cat= df_math.drop(['G1','G2','G3'], axis = 1)\n",
    "###\n",
    "\n",
    "\n",
    "y_lang = [1 if i >= 10 else 0 for i in df_lang['G3']]\n",
    "X_lang_cat= df_lang.drop(['G1','G2','G3'], axis = 1)\n",
    "###\n",
    "###creating math and lang df's with dummy variables for non_catboost models\n",
    "X_math = pd.get_dummies(X_math_cat, drop_first = True)\n",
    "###\n",
    "X_lang = pd.get_dummies(X_lang_cat, drop_first = True)\n",
    "\n",
    "\n",
    "#creating a class labels array for future use\n",
    "y_math_labels = ['Pass' if i == 1  else 'Fail' for i in y_math]\n",
    "y_lang_labels = ['Pass' if i == 1  else 'Fail' for i in y_lang ]\n",
    "#creating A class names list for future use\n",
    "class_names = ['Pass', 'Fail']\n",
    "\n",
    "print \"done\"\n",
    "\n"
   ]
  },
  {
   "cell_type": "code",
   "execution_count": 3,
   "metadata": {
    "collapsed": false,
    "deletable": true,
    "editable": true
   },
   "outputs": [],
   "source": [
    "X_train, X_test, y_train, y_test = train_test_split(X_math, y_math, test_size = 0.3,random_state = 16 ,stratify = y_math)"
   ]
  },
  {
   "cell_type": "code",
   "execution_count": 4,
   "metadata": {
    "collapsed": false,
    "deletable": true,
    "editable": true
   },
   "outputs": [
    {
     "name": "stdout",
     "output_type": "stream",
     "text": [
      "Test AUC = 0.6542\n"
     ]
    },
    {
     "data": {
      "image/png": "[encoded data removed]",
      "text/plain": [
       "<Figure size 600x400 with 1 Axes>"
      ]
     },
     "metadata": {},
     "output_type": "display_data"
    }
   ],
   "source": [
    "model = XGBClassifier()\n",
    "model.fit(X_train, y_train)\n",
    "y_score = model.predict_proba(X_test)\n",
    "auc_score_base = roc_auc_score(y_test, y_score[:,1])\n",
    "fpr_base, tpr_base, _ = roc_curve(y_test,  y_score[:,1])\n",
    "print('Test AUC = {:.4f}'.format(auc_score_base))\n",
    "\n",
    "\n",
    "plt.plot(fpr_base, tpr_base, label='Base ROC curve (area = %0.3f)' % auc_score_base)\n",
    "plt.plot([0, 1], [0, 1], 'k--')\n",
    "plt.xlim([0.0, 1.0])\n",
    "plt.ylim([0.0, 1.0])\n",
    "plt.xlabel('False Positive Rate or (1 - Specifity)')\n",
    "plt.ylabel('True Positive Rate or (Sensitivity)')\n",
    "plt.title('Receiver Operating Characteristic')\n",
    "plt.legend(loc=\"lower right\")\n",
    "plt.show()\n",
    "\n",
    "\n",
    "\n"
   ]
  },
  {
   "cell_type": "code",
   "execution_count": 5,
   "metadata": {
    "collapsed": true
   },
   "outputs": [],
   "source": [
    "SEED = 314159265\n",
    "VALID_SIZE = 0.2\n",
    "TARGET = 'outcome'\n",
    "\n",
    "xgb_space = {\n",
    "        'n_estimators': hp.quniform('n_estimators', 100, 1000, 1),\n",
    "        'learning_rate': hp.quniform('eta', 0.025, 0.5, 0.025),\n",
    "        # A problem with max_depth casted to float instead of int with\n",
    "        # the hp.quniform method.\n",
    "        'max_depth':  hp.choice('max_depth', np.arange(1, 14, dtype=int)),\n",
    "        'min_child_weight': hp.quniform('min_child_weight', 1, 6, 1),\n",
    "        'subsample': hp.quniform('subsample', 0.5, 1, 0.05),\n",
    "        'gamma': hp.quniform('gamma', 0.5, 1, 0.05),\n",
    "        'colsample_bytree': hp.quniform('colsample_bytree', 0.5, 1, 0.05),\n",
    "     #   'eval_metric': 'auc',\n",
    "        'objective': 'binary:logistic',\n",
    "        # Increase this number if you have more cores. Otherwise, remove it and it will default \n",
    "        # to the maxium number. \n",
    "        # 'nthread': 4,\n",
    "     #   'booster': 'gbtree',\n",
    "    #    'tree_method': 'exact',\n",
    "        'silent': 1,\n",
    "        'seed': SEED\n",
    "}"
   ]
  },
  {
   "cell_type": "code",
   "execution_count": 6,
   "metadata": {
    "collapsed": false,
    "deletable": true,
    "editable": true
   },
   "outputs": [
    {
     "name": "stdout",
     "output_type": "stream",
     "text": [
      "<hyperopt.base.Trials object at 0x000000000B63C0B8>\n",
      "[CV]  ................................................................\n",
      "[CV] ............................ , score=0.40138648596, total=   0.0s\n",
      "[CV]  ................................................................\n",
      "[CV] ........................... , score=0.573983766618, total=   0.0s"
     ]
    },
    {
     "name": "stderr",
     "output_type": "stream",
     "text": [
      "[Parallel(n_jobs=1)]: Done   1 out of   1 | elapsed:    0.0s remaining:    0.0s\n",
      "[Parallel(n_jobs=1)]: Done   2 out of   2 | elapsed:    0.1s remaining:    0.0s\n"
     ]
    },
    {
     "name": "stdout",
     "output_type": "stream",
     "text": [
      "\n",
      "[CV]  ................................................................\n",
      "[CV] ........................... , score=0.638442398069, total=   0.0s\n",
      "[CV]  ................................................................\n",
      "[CV] ........................... , score=0.414039335605, total=   0.0s\n",
      "[CV]  ................................................................\n",
      "[CV] ........................... , score=0.554700196225, total=   0.0s\n",
      "[ 0.40138649  0.57398377  0.6384424   0.41403934  0.5547002 ]\n",
      "[CV]  ................................................................\n",
      "[CV] ........................... , score=0.540061724867, total=   0.0s"
     ]
    },
    {
     "name": "stderr",
     "output_type": "stream",
     "text": [
      "[Parallel(n_jobs=1)]: Done   5 out of   5 | elapsed:    0.3s finished\n",
      "[Parallel(n_jobs=1)]: Done   1 out of   1 | elapsed:    0.0s remaining:    0.0s\n"
     ]
    },
    {
     "name": "stdout",
     "output_type": "stream",
     "text": [
      "\n",
      "[CV]  ................................................................\n",
      "[CV] ............................ , score=0.60214043164, total=   0.0s\n",
      "[CV]  ................................................................\n",
      "[CV] ........................... , score=0.643920916217, total=   0.0s\n",
      "[CV]  ................................................................\n",
      "[CV] ........................... , score=0.355035801248, total=   0.0s\n",
      "[CV]  ................................................................\n",
      "[CV] ........................... , score=0.570155592256, total=   0.0s"
     ]
    },
    {
     "name": "stderr",
     "output_type": "stream",
     "text": [
      "[Parallel(n_jobs=1)]: Done   2 out of   2 | elapsed:    0.1s remaining:    0.0s\n",
      "[Parallel(n_jobs=1)]: Done   5 out of   5 | elapsed:    0.3s finished\n"
     ]
    },
    {
     "name": "stdout",
     "output_type": "stream",
     "text": [
      "\n",
      "[ 0.54006172  0.60214043  0.64392092  0.3550358   0.57015559]\n",
      "[CV]  ................................................................\n",
      "[CV] ........................... , score=0.612372435696, total=   0.0s\n",
      "[CV]  ................................................................\n",
      "[CV] ........................... , score=0.527963677348, total=   0.0s"
     ]
    },
    {
     "name": "stderr",
     "output_type": "stream",
     "text": [
      "[Parallel(n_jobs=1)]: Done   1 out of   1 | elapsed:    0.0s remaining:    0.0s\n",
      "[Parallel(n_jobs=1)]: Done   2 out of   2 | elapsed:    0.1s remaining:    0.0s\n"
     ]
    },
    {
     "name": "stdout",
     "output_type": "stream",
     "text": [
      "\n",
      "[CV]  ................................................................\n",
      "[CV] ........................... , score=0.522349942439, total=   0.0s\n",
      "[CV]  ................................................................\n",
      "[CV] ........................... , score=0.505388916238, total=   0.0s\n",
      "[CV]  ................................................................\n",
      "[CV] ........................... , score=0.466849780924, total=   0.0s\n",
      "[ 0.61237244  0.52796368  0.52234994  0.50538892  0.46684978]\n",
      "[CV]  ................................................................\n",
      "[CV] ........................... , score=0.543358164785, total=   0.0s"
     ]
    },
    {
     "name": "stderr",
     "output_type": "stream",
     "text": [
      "[Parallel(n_jobs=1)]: Done   5 out of   5 | elapsed:    0.4s finished\n",
      "[Parallel(n_jobs=1)]: Done   1 out of   1 | elapsed:    0.0s remaining:    0.0s\n"
     ]
    },
    {
     "name": "stdout",
     "output_type": "stream",
     "text": [
      "\n",
      "[CV]  ................................................................\n",
      "[CV] ........................... , score=0.461880215352, total=   0.0s\n",
      "[CV]  ................................................................\n",
      "[CV] ........................... , score=0.608434308444, total=   0.0s\n",
      "[CV]  ................................................................\n",
      "[CV] ........................... , score=0.588937048289, total=   0.0s\n",
      "[CV]  ................................................................\n",
      "[CV] ........................... , score=0.560112033611, total=   0.0s"
     ]
    },
    {
     "name": "stderr",
     "output_type": "stream",
     "text": [
      "[Parallel(n_jobs=1)]: Done   2 out of   2 | elapsed:    0.1s remaining:    0.0s\n",
      "[Parallel(n_jobs=1)]: Done   5 out of   5 | elapsed:    0.3s finished\n"
     ]
    },
    {
     "name": "stdout",
     "output_type": "stream",
     "text": [
      "\n",
      "[ 0.54335816  0.46188022  0.60843431  0.58893705  0.56011203]\n",
      "[CV]  ................................................................\n",
      "[CV] ........................... , score=0.580947501931, total=   0.0s\n",
      "[CV]  ................................................................\n",
      "[CV] ........................... , score=0.508265022733, total=   0.0s"
     ]
    },
    {
     "name": "stderr",
     "output_type": "stream",
     "text": [
      "[Parallel(n_jobs=1)]: Done   1 out of   1 | elapsed:    0.0s remaining:    0.0s\n",
      "[Parallel(n_jobs=1)]: Done   2 out of   2 | elapsed:    0.1s remaining:    0.0s\n"
     ]
    },
    {
     "name": "stdout",
     "output_type": "stream",
     "text": [
      "\n",
      "[CV]  ................................................................\n",
      "[CV] ........................... , score=0.493995779576, total=   0.0s\n",
      "[CV]  ................................................................\n",
      "[CV] ........................... , score=0.503322295685, total=   0.0s\n",
      "[CV]  ................................................................\n",
      "[CV] ........................... , score=0.547722557505, total=   0.0s\n",
      "[ 0.5809475   0.50826502  0.49399578  0.5033223   0.54772256]\n",
      "[CV]  ................................................................\n",
      "[CV] ........................... , score=0.657662774683, total=   0.0s"
     ]
    },
    {
     "name": "stderr",
     "output_type": "stream",
     "text": [
      "[Parallel(n_jobs=1)]: Done   5 out of   5 | elapsed:    0.5s finished\n",
      "[Parallel(n_jobs=1)]: Done   1 out of   1 | elapsed:    0.0s remaining:    0.0s\n"
     ]
    },
    {
     "name": "stdout",
     "output_type": "stream",
     "text": [
      "\n",
      "[CV]  ................................................................\n",
      "[CV] ........................... , score=0.610620293519, total=   0.0s\n",
      "[CV]  ................................................................\n",
      "[CV] ........................... , score=0.427490980035, total=   0.0s\n",
      "[CV]  ................................................................\n",
      "[CV] ........................... , score=0.635488909302, total=   0.0s\n",
      "[CV]  ................................................................\n",
      "[CV] ........................... , score=0.476330511622, total=   0.0s"
     ]
    },
    {
     "name": "stderr",
     "output_type": "stream",
     "text": [
      "[Parallel(n_jobs=1)]: Done   2 out of   2 | elapsed:    0.1s remaining:    0.0s\n",
      "[Parallel(n_jobs=1)]: Done   5 out of   5 | elapsed:    0.4s finished\n"
     ]
    },
    {
     "name": "stdout",
     "output_type": "stream",
     "text": [
      "\n",
      "[ 0.65766277  0.61062029  0.42749098  0.63548891  0.47633051]\n",
      "[CV]  ................................................................\n",
      "[CV] ............................ , score=0.57735026919, total=   0.0s\n",
      "[CV]  ................................................................\n",
      "[CV] ........................... , score=0.336650164612, total=   0.0s"
     ]
    },
    {
     "name": "stderr",
     "output_type": "stream",
     "text": [
      "[Parallel(n_jobs=1)]: Done   1 out of   1 | elapsed:    0.0s remaining:    0.0s\n",
      "[Parallel(n_jobs=1)]: Done   2 out of   2 | elapsed:    0.1s remaining:    0.0s\n"
     ]
    },
    {
     "name": "stdout",
     "output_type": "stream",
     "text": [
      "\n",
      "[CV]  ................................................................\n",
      "[CV] ........................... , score=0.399724422978, total=   0.0s\n",
      "[CV]  ................................................................\n",
      "[CV] ........................... , score=0.411813845414, total=   0.0s\n",
      "[CV]  ................................................................\n",
      "[CV] ........................... , score=0.611010092661, total=   0.0s\n",
      "[ 0.57735027  0.33665016  0.39972442  0.41181385  0.61101009]\n",
      "[CV]  ................................................................\n",
      "[CV] ........................... , score=0.522604267571, total=   0.0s"
     ]
    },
    {
     "name": "stderr",
     "output_type": "stream",
     "text": [
      "[Parallel(n_jobs=1)]: Done   5 out of   5 | elapsed:    0.4s finished\n",
      "[Parallel(n_jobs=1)]: Done   1 out of   1 | elapsed:    0.0s remaining:    0.0s\n"
     ]
    },
    {
     "name": "stdout",
     "output_type": "stream",
     "text": [
      "\n",
      "[CV]  ................................................................\n",
      "[CV] ........................... , score=0.438397299481, total=   0.0s\n",
      "[CV]  ................................................................\n",
      "[CV] ........................... , score=0.424264068712, total=   0.0s\n",
      "[CV]  ................................................................\n",
      "[CV] ........................... , score=0.621059003408, total=   0.0s\n",
      "[CV]  ................................................................\n",
      "[CV] ........................... , score=0.651134861751, total=   0.0s"
     ]
    },
    {
     "name": "stderr",
     "output_type": "stream",
     "text": [
      "[Parallel(n_jobs=1)]: Done   2 out of   2 | elapsed:    0.0s remaining:    0.0s\n",
      "[Parallel(n_jobs=1)]: Done   5 out of   5 | elapsed:    0.3s finished\n"
     ]
    },
    {
     "name": "stdout",
     "output_type": "stream",
     "text": [
      "\n",
      "[ 0.52260427  0.4383973   0.42426407  0.621059    0.65113486]\n",
      "[CV]  ................................................................\n",
      "[CV] ........................... , score=0.361403161162, total=   0.0s\n",
      "[CV]  ................................................................\n",
      "[CV] ........................... , score=0.498535868013, total=   0.0s"
     ]
    },
    {
     "name": "stderr",
     "output_type": "stream",
     "text": [
      "[Parallel(n_jobs=1)]: Done   1 out of   1 | elapsed:    0.0s remaining:    0.0s\n",
      "[Parallel(n_jobs=1)]: Done   2 out of   2 | elapsed:    0.0s remaining:    0.0s\n"
     ]
    },
    {
     "name": "stdout",
     "output_type": "stream",
     "text": [
      "\n",
      "[CV]  ................................................................\n",
      "[CV] ........................... , score=0.545454545455, total=   0.0s\n",
      "[CV]  ................................................................\n",
      "[CV] ........................... , score=0.491689171894, total=   0.0s\n",
      "[CV]  ................................................................\n",
      "[CV] ........................... , score=0.580119351115, total=   0.1s\n",
      "[ 0.36140316  0.49853587  0.54545455  0.49168917  0.58011935]\n",
      "[CV]  ................................................................\n",
      "[CV] ............................ , score=0.44280744277, total=   0.0s"
     ]
    },
    {
     "name": "stderr",
     "output_type": "stream",
     "text": [
      "[Parallel(n_jobs=1)]: Done   5 out of   5 | elapsed:    0.5s finished\n",
      "[Parallel(n_jobs=1)]: Done   1 out of   1 | elapsed:    0.0s remaining:    0.0s\n"
     ]
    },
    {
     "name": "stdout",
     "output_type": "stream",
     "text": [
      "\n",
      "[CV]  ................................................................\n",
      "[CV] ............................ , score=0.63438081969, total=   0.0s\n",
      "[CV]  ................................................................\n",
      "[CV] ............................ , score=0.51987524491, total=   0.0s\n",
      "[CV]  ................................................................\n",
      "[CV] ........................... , score=0.539737460818, total=   0.0s\n",
      "[CV]  ................................................................\n",
      "[CV] ........................... , score=0.366679398811, total=   0.0s"
     ]
    },
    {
     "name": "stderr",
     "output_type": "stream",
     "text": [
      "[Parallel(n_jobs=1)]: Done   2 out of   2 | elapsed:    0.1s remaining:    0.0s\n",
      "[Parallel(n_jobs=1)]: Done   5 out of   5 | elapsed:    0.5s finished\n"
     ]
    },
    {
     "name": "stdout",
     "output_type": "stream",
     "text": [
      "\n",
      "[ 0.44280744  0.63438082  0.51987524  0.53973746  0.3666794 ]\n"
     ]
    }
   ],
   "source": [
    "def g_mean(estimator, X, y):\n",
    "    y_pred = estimator.predict(X)\n",
    "    return geometric_mean_score(y, y_pred, pos_label=2)\n",
    "\n",
    "def objective(params):\n",
    "    shuffle = KFold(n_splits=5, shuffle=True)\n",
    "#    print (X_train.shape, y_train.shape)\n",
    "    score = cross_val_score(model, X_train, y_train, cv=shuffle, scoring=g_mean, n_jobs=1, verbose=3) # 'roc_auc'\n",
    "    print score\n",
    "    return 1-score.mean()\n",
    "\n",
    "trials = Trials()\n",
    "print trials\n",
    "\n",
    "best = fmin(fn=objective,\n",
    "            space=xgb_space,\n",
    "            algo=tpe.suggest,\n",
    "            max_evals=10,\n",
    "            trials=trials)"
   ]
  },
  {
   "cell_type": "code",
   "execution_count": 27,
   "metadata": {
    "collapsed": false,
    "deletable": true,
    "editable": true
   },
   "outputs": [
    {
     "name": "stdout",
     "output_type": "stream",
     "text": [
      "0.654166666667\n"
     ]
    },
    {
     "data": {
      "image/png": "[encoded data removed]",
      "text/plain": [
       "<Figure size 600x400 with 1 Axes>"
      ]
     },
     "metadata": {},
     "output_type": "display_data"
    }
   ],
   "source": [
    "param_values = [x['misc']['vals'] for x in trials.trials]\n",
    "param_values = [{key:value for key in x for value in x[key]} for x in param_values]\n",
    "param_values = [space_eval(xgb_space, x) for x in param_values]\n",
    "\n",
    "param_df = pd.DataFrame(param_values)\n",
    "param_df['auc_score'] = [1 - x for x in trials.losses()]\n",
    "param_df.index.name = 'Iteration'\n",
    "param_df.to_csv(\"xgb_parameter_values.csv\")\n",
    "\n",
    "\n",
    "best_params = space_eval(xgb_space, best)\n",
    "\n",
    "\n",
    "model.fit(X_train, y_train);\n",
    "\n",
    "# Score with the test data\n",
    "y_score = model.predict_proba(X_test)\n",
    "auc_score_tuned = roc_auc_score(y_test, y_score[:,1])\n",
    "print auc_score_tuned\n",
    "\n",
    "fpr_tuned, tpr_tuned, _ = roc_curve(y_test,  y_score[:,1])\n",
    "\n",
    "\n",
    "# Plot ROC curve\n",
    "plt.plot(fpr_base, tpr_base, label='Base ROC fold (AUC = %0.8f)' % auc_score_base)\n",
    "plt.plot(fpr_tuned, tpr_tuned, label='Tuned ROC fold (AUC = %0.8f)'% auc_score_tuned)\n",
    "plt.plot([0, 1], [0, 1], 'k--')\n",
    "plt.xlim([0.0, 1.0])\n",
    "plt.ylim([0.0, 1.0])\n",
    "plt.xlabel('False Positive Rate')\n",
    "plt.ylabel('True Positive Rate')\n",
    "plt.title('ROC')\n",
    "plt.legend(loc=\"lower right\")\n",
    "plt.show()"
   ]
  }
 ],
 "metadata": {
  "kernelspec": {
   "display_name": "Python 2",
   "language": "python",
   "name": "python2"
  },
  "language_info": {
   "codemirror_mode": {
    "name": "ipython",
    "version": 2
   },
   "file_extension": ".py",
   "mimetype": "text/x-python",
   "name": "python",
   "nbconvert_exporter": "python",
   "pygments_lexer": "ipython2",
   "version": "2.7.11"
  }
 },
 "nbformat": 4,
 "nbformat_minor": 0
}
