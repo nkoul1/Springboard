{
 "cells": [
  {
   "cell_type": "code",
   "execution_count": 36,
   "metadata": {
    "collapsed": false
   },
   "outputs": [
    {
     "data": {
      "image/png": "[encoded data removed]",
      "text/plain": [
       "<matplotlib.figure.Figure at 0x10970a20>"
      ]
     },
     "metadata": {},
     "output_type": "display_data"
    },
    {
     "data": {
      "image/png": "[encoded data removed]",
      "text/plain": [
       "<matplotlib.figure.Figure at 0x106b0160>"
      ]
     },
     "metadata": {},
     "output_type": "display_data"
    }
   ],
   "source": [
    "import pandas as pd\n",
    "import numpy as np\n",
    "import itertools\n",
    "import matplotlib.pyplot as plt\n",
    "import scipy.stats as stats\n",
    "from sklearn.metrics import confusion_matrix\n",
    "from sklearn.cross_validation import train_test_split\n",
    "from sklearn.ensemble import RandomForestClassifier\n",
    "%matplotlib inline\n",
    "\n",
    "#importing data\n",
    "df_math = pd.read_csv('data/student-mat.csv',delimiter = ';',header=0)\n",
    "df_lang = pd.read_csv('data/student-por.csv',delimiter= ';',header=0)\n",
    "\n",
    "#creating pass/fail column for G3 scores >= 10\n",
    "#These columns will act as our labels 1 for pass 0 for fail\n",
    "y_math = [1 if i >= 10 else 0 for i in df_math['G3']]\n",
    "y_lang = [1 if i >= 10 else 0 for i in df_lang['G3']]\n",
    "\n",
    "#turning lists into series for later manipulation\n",
    "y_math = pd.Series(y_math)\n",
    "y_lang = pd.Series(y_lang)\n",
    "\n",
    "#remove the G1, G2, and G3 columns from the original df's to create df with feature data only\n",
    "#it was noted that G1 and G2 scores were very good indicators of G3 scores but we want to be able to predict performance without any testing data\n",
    "df_math_X = df_math.drop(['G1','G2','G3'], axis = 1)\n",
    "df_lang_X = df_lang.drop(['G1','G2','G3'], axis = 1)\n",
    "\n",
    "#create dummy variables for features like Gender and drop the first dummy column to elimintae duplicates in data\n",
    "df_math_X = pd.get_dummies(df_math_X, drop_first = True)\n",
    "df_lang_X = pd.get_dummies(df_lang_X, drop_first = True)\n",
    "\n",
    "#plotting distribution of G3 scores\n",
    "plt.figure()\n",
    "df_math['G3'].plot.hist(bins=20)\n",
    "plt.figure()\n",
    "df_lang['G3'].plot.hist(bins=20)\n",
    "\n",
    "plt.show()"
   ]
  },
  {
   "cell_type": "code",
   "execution_count": 5,
   "metadata": {
    "collapsed": true
   },
   "outputs": [],
   "source": [
    "#copied code for plotting confusion matrix\n",
    "\n",
    "\n",
    "def plot_confusion_matrix(cm, classes,\n",
    "                          normalize=False,\n",
    "                          title='Confusion matrix',\n",
    "                          cmap=plt.cm.Blues):\n",
    "    \"\"\"\n",
    "    This function prints and plots the confusion matrix.\n",
    "    Normalization can be applied by setting `normalize=True`.\n",
    "    \"\"\"\n",
    "    if normalize:\n",
    "        cm = cm.astype('float') / cm.sum(axis=1)[:, np.newaxis]\n",
    "        print(\"Normalized confusion matrix\")\n",
    "    else:\n",
    "        print('Confusion matrix, without normalization')\n",
    "\n",
    "    print(cm)\n",
    "\n",
    "    plt.imshow(cm, interpolation='nearest', cmap=cmap)\n",
    "    plt.title(title)\n",
    "    plt.colorbar()\n",
    "    tick_marks = np.arange(len(classes))\n",
    "    plt.xticks(tick_marks, classes, rotation=45)\n",
    "    plt.yticks(tick_marks, classes)\n",
    "\n",
    "    fmt = '.2f' if normalize else 'd'\n",
    "    thresh = cm.max() / 2.\n",
    "    for i, j in itertools.product(range(cm.shape[0]), range(cm.shape[1])):\n",
    "        plt.text(j, i, format(cm[i, j], fmt),\n",
    "                 horizontalalignment=\"center\",\n",
    "                 color=\"white\" if cm[i, j] > thresh else \"black\")\n",
    "\n",
    "    plt.tight_layout()\n",
    "    plt.ylabel('True label')\n",
    "    plt.xlabel('Predicted label')\n",
    "    \n",
    "    "
   ]
  },
  {
   "cell_type": "code",
   "execution_count": 34,
   "metadata": {
    "collapsed": false
   },
   "outputs": [
    {
     "name": "stdout",
     "output_type": "stream",
     "text": [
      "265\n",
      "549\n",
      "395\n"
     ]
    },
    {
     "data": {
      "image/png": "[encoded data removed]",
      "text/plain": [
       "<matplotlib.figure.Figure at 0x1082ea20>"
      ]
     },
     "metadata": {},
     "output_type": "display_data"
    }
   ],
   "source": [
    "#Binomial CDF for Test scores\n",
    "print y_math.sum()\n",
    "print y_lang.sum()\n",
    "print len(y_math)\n",
    "\n",
    "def binomcdf(df): \n",
    "    n = len(df)\n",
    "    p = df.sum() / float(n)   \n",
    "    y = []\n",
    "    for i in range(n):\n",
    "        bi = stats.binom.cdf(i, n, p)\n",
    "        y.append(bi)\n",
    "          \n",
    "    last = stats.binom.cdf(n, n, p)     \n",
    "    y.append(last)\n",
    "    x = np.arange(0,n+1,1)\n",
    "    plt.scatter(x, y)\n",
    "    plt.show()\n",
    "\n",
    "binomcdf(y_math)"
   ]
  },
  {
   "cell_type": "code",
   "execution_count": 7,
   "metadata": {
    "collapsed": false
   },
   "outputs": [
    {
     "name": "stdout",
     "output_type": "stream",
     "text": [
      " Correlation Fjob_services  and passing for math and lang are:  -0.042 , -0.049\n",
      "Correlation address_U  and passing for math and lang are:  0.052 , 0.127\n",
      "Correlation Medu  and passing for math and lang are:  0.115 , 0.145\n",
      "Correlation romantic_yes  and passing for math and lang are:  -0.098 , -0.081\n",
      "Correlation absences  and passing for math and lang are:  -0.092 , -0.087\n",
      "Correlation school_MS  and passing for math and lang are:  -0.031 , -0.297\n",
      "Correlation internet_yes  and passing for math and lang are:  0.062 , 0.088\n",
      "Correlation nursery_yes  and passing for math and lang are:  -0.009 , -0.008\n",
      "Correlation Fjob_teacher  and passing for math and lang are:  0.053 , 0.047\n",
      "Correlation studytime  and passing for math and lang are:  0.075 , 0.165\n",
      "Correlation Mjob_other  and passing for math and lang are:  -0.074 , -0.020\n",
      "Correlation Fedu  and passing for math and lang are:  0.108 , 0.146\n",
      "Correlation health  and passing for math and lang are:  -0.066 , -0.010\n",
      "Correlation Mjob_teacher  and passing for math and lang are:  0.001 , 0.096\n",
      "Correlation reason_other  and passing for math and lang are:  0.053 , -0.094\n",
      "Correlation reason_reputation  and passing for math and lang are:  0.068 , 0.124\n",
      "Correlation famrel  and passing for math and lang are:  0.047 , 0.045\n",
      "Correlation guardian_other  and passing for math and lang are:  -0.108 , -0.047\n",
      "Correlation guardian_mother  and passing for math and lang are:  0.010 , -0.046\n",
      "Correlation freetime  and passing for math and lang are:  -0.018 , -0.093\n",
      "Correlation failures  and passing for math and lang are:  -0.338 , -0.380\n",
      "Correlation paid_yes  and passing for math and lang are:  0.093 , -0.054\n",
      "Correlation schoolsup_yes  and passing for math and lang are:  -0.100 , 0.035\n",
      "Correlation Fjob_health  and passing for math and lang are:  -0.002 , 0.013\n",
      "Correlation famsize_LE3  and passing for math and lang are:  0.042 , 0.052\n",
      "Correlation Dalc  and passing for math and lang are:  -0.057 , -0.124\n",
      "Correlation Walc  and passing for math and lang are:  -0.030 , -0.116\n",
      "Correlation Mjob_services  and passing for math and lang are:  0.060 , 0.021\n",
      "Correlation Pstatus_T  and passing for math and lang are:  -0.044 , -0.004\n",
      "Correlation higher_yes  and passing for math and lang are:  0.158 , 0.310\n",
      "Correlation Mjob_health  and passing for math and lang are:  0.080 , 0.023\n",
      "Correlation traveltime  and passing for math and lang are:  -0.044 , -0.058\n",
      "Correlation goout  and passing for math and lang are:  -0.183 , -0.067\n",
      "Correlation famsup_yes  and passing for math and lang are:  -0.059 , 0.038\n",
      "Correlation activities_yes  and passing for math and lang are:  0.012 , 0.047\n",
      "Correlation sex_M  and passing for math and lang are:  0.071 , -0.078\n",
      "Correlation age  and passing for math and lang are:  -0.180 , -0.111\n",
      "Correlation Fjob_other  and passing for math and lang are:  0.026 , 0.022\n",
      "Correlation reason_home  and passing for math and lang are:  -0.002 , 0.060\n"
     ]
    }
   ],
   "source": [
    "#Correlation values for each variable compared to the pass/fail coulmn\n",
    "\n",
    "#'school', 'sex', 'age', 'address', 'famsize', 'Pstatus', 'Medu', 'Fedu', 'Mjob', 'Fjob', 'reason', 'guardian', 'traveltime', 'studytime', 'failures', 'schoolsup', 'famsup', 'paid', 'activities', 'nursery', 'higher', 'internet', 'romantic', 'famrel', 'freetime', 'goout', 'Dalc', 'Walc', 'health', 'absences', 'G1', 'G2', 'G3'\n",
    "\n",
    "\n",
    "#turning lists into series for later manipulation\n",
    "y_math = pd.Series(y_math).astype(bool)\n",
    "\n",
    "y_lang = pd.Series(y_lang).astype(bool)\n",
    "\n",
    "\n",
    "\n",
    "#remove the G3 column from the original df's to create df with feature data only\n",
    "df_math_X = df_math.drop(['G1','G2','G3'], axis = 1)\n",
    "df_lang_X = df_lang.drop(['G1','G2','G3'], axis = 1)\n",
    "\n",
    "#create dummy variables for features like Gender and drop the first dummy column to elimintae duplicates in data\n",
    "df_math_X = pd.get_dummies(df_math_X, drop_first = True)\n",
    "df_lang_X = pd.get_dummies(df_lang_X, drop_first = True)\n",
    "\n",
    "\n",
    "#correlation functions for math and lang calss data set\n",
    "def corr(df,y,class_name = 'course'):\n",
    "    corr_dict = {}\n",
    "    \n",
    "    for i in list(df):\n",
    "        corr = df[i].corr(y)\n",
    "        corr_dict[i] = corr\n",
    "    return corr_dict\n",
    "    \n",
    "\n",
    "#MATH and LANG CLASS CORRELATIONS\n",
    "math_correlations = corr(df_math_X, y_math, 'math')\n",
    "lang_correlations = corr(df_lang_X, y_lang, 'math')\n",
    "\n",
    "for m in math_correlations.keys():\n",
    "    print 'Correlation',m,' and passing for math and lang are: ', \"{0:.3f}\".format(math_correlations[m]),',',\"{0:.3f}\".format(lang_correlations[m])  \n",
    "\n",
    "\n",
    "pd.scatter_matrix\n"
   ]
  },
  {
   "cell_type": "code",
   "execution_count": null,
   "metadata": {
    "collapsed": false
   },
   "outputs": [],
   "source": [
    "#MATH CLASS MODEL\n",
    "\n",
    "# create calssifier\n",
    "forest = RandomForestClassifier(n_estimators = 10)\n",
    "\n",
    "# split data into training and test sets\n",
    "X_train_m, X_test_m, y_train_m, y_test_m = train_test_split(df_math_X,y_math,test_size = 0.3, random_state = 21, stratify = y_math)\n",
    "\n",
    "#fit classifier to math and lang training data\n",
    "forest_m = forest.fit(X_train_m,y_train_m)\n",
    "\n",
    "#predict y outcomes based on X testing data\n",
    "#also return a score on how well model did\n",
    "y_pred_m = forest.predict(X_test_m)\n",
    "model_score_m = forest.score(X_test_m,y_test_m)\n",
    "print \"math model score: \",model_score_m\n",
    "\n",
    "#confusion matrix and necessary plot variables\n",
    "cm_m = confusion_matrix(y_test_m, y_pred_m)\n",
    "class_names = ['Fail', 'Pass']\n",
    "np.set_printoptions(precision=2)\n",
    "    \n",
    "# Plot non-normalized confusion matrix\n",
    "plt.figure()\n",
    "plot_confusion_matrix(cm_m, classes=class_names,\n",
    "                      title='Math confusion matrix, without normalization')\n",
    "# Plot normalized confusion matrix\n",
    "plt.figure()\n",
    "plot_confusion_matrix(cm_m, classes=class_names, normalize=True,\n",
    "                      title='Math normalized confusion matrix')\n",
    "plt.show()"
   ]
  },
  {
   "cell_type": "code",
   "execution_count": null,
   "metadata": {
    "collapsed": false
   },
   "outputs": [],
   "source": [
    "#LANG CLASS MODEL\n",
    "\n",
    "# create calssifier\n",
    "forest = RandomForestClassifier(n_estimators = 10)\n",
    "\n",
    "# split data into training and test sets\n",
    "X_train_l, X_test_l, y_train_l, y_test_l = train_test_split(df_lang_X,y_lang,test_size = 0.3, random_state = 21, stratify = y_lang)\n",
    "\n",
    "#fit classifier to math and lang training data\n",
    "forest_l = forest.fit(X_train_l,y_train_l)\n",
    "\n",
    "#predict y outcomes based on X testing data\n",
    "#also return a score on how well model did\n",
    "y_pred_l = forest.predict(X_test_l)\n",
    "model_score_l = forest.score(X_test_l,y_test_l)\n",
    "print \"lang model score: \",model_score_l\n",
    "\n",
    "#confusion matrix plot function\n",
    "cm_l = confusion_matrix(y_test_l, y_pred_l)\n",
    "class_names = ['Fail', 'Pass']\n",
    "np.set_printoptions(precision=2)\n",
    "\n",
    "#Lang Confusion Matricies    \n",
    "plt.figure()\n",
    "plot_confusion_matrix(cm_l, classes=class_names,\n",
    "                      title='Lang confusion matrix, without normalization')\n",
    "# Plot normalized confusion matrix\n",
    "plt.figure()\n",
    "plot_confusion_matrix(cm_l, classes=class_names, normalize=True,\n",
    "                      title='Lang normalized confusion matrix')\n",
    "plt.show()\n"
   ]
  }
 ],
 "metadata": {
  "kernelspec": {
   "display_name": "Python 2",
   "language": "python",
   "name": "python2"
  },
  "language_info": {
   "codemirror_mode": {
    "name": "ipython",
    "version": 2
   },
   "file_extension": ".py",
   "mimetype": "text/x-python",
   "name": "python",
   "nbconvert_exporter": "python",
   "pygments_lexer": "ipython2",
   "version": "2.7.11"
  }
 },
 "nbformat": 4,
 "nbformat_minor": 0
}
