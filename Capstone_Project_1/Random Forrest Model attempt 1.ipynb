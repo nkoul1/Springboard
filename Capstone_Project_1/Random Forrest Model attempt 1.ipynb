{
 "cells": [
  {
   "cell_type": "code",
   "execution_count": 11,
   "metadata": {
    "collapsed": true
   },
   "outputs": [],
   "source": [
    "# # Attributes for both student-mat.csv (Math course) and student-por.csv (Portuguese language course) datasets:\n",
    "\n",
    "# 1 school - student's school (binary: 'GP' - Gabriel Pereira or 'MS' - Mousinho da Silveira) \n",
    "# 2 sex - student's sex (binary: 'F' - female or 'M' - male) \n",
    "# 3 age - student's age (numeric: from 15 to 22) \n",
    "# 4 address - student's home address type (binary: 'U' - urban or 'R' - rural) \n",
    "# 5 famsize - family size (binary: 'LE3' - less or equal to 3 or 'GT3' - greater than 3) \n",
    "# 6 Pstatus - parent's cohabitation status (binary: 'T' - living together or 'A' - apart) \n",
    "# 7 Medu - mother's education (numeric: 0 - none, 1 - primary education (4th grade), 2 â€“ 5th to 9th grade, 3 â€“ secondary education or 4 â€“ higher education) \n",
    "# 8 Fedu - father's education (numeric: 0 - none, 1 - primary education (4th grade), 2 â€“ 5th to 9th grade, 3 â€“ secondary education or 4 â€“ higher education) \n",
    "# 9 Mjob - mother's job (nominal: 'teacher', 'health' care related, civil 'services' (e.g. administrative or police), 'at_home' or 'other') \n",
    "# 10 Fjob - father's job (nominal: 'teacher', 'health' care related, civil 'services' (e.g. administrative or police), 'at_home' or 'other') \n",
    "# 11 reason - reason to choose this school (nominal: close to 'home', school 'reputation', 'course' preference or 'other') \n",
    "# 12 guardian - student's guardian (nominal: 'mother', 'father' or 'other') \n",
    "# 13 traveltime - home to school travel time (numeric: 1 - <15 min., 2 - 15 to 30 min., 3 - 30 min. to 1 hour, or 4 - >1 hour) \n",
    "# 14 studytime - weekly study time (numeric: 1 - <2 hours, 2 - 2 to 5 hours, 3 - 5 to 10 hours, or 4 - >10 hours) \n",
    "# 15 failures - number of past class failures (numeric: n if 1<=n<3, else 4) \n",
    "# 16 schoolsup - extra educational support (binary: yes or no) \n",
    "# 17 famsup - family educational support (binary: yes or no) \n",
    "# 18 paid - extra paid classes within the course subject (Math or Portuguese) (binary: yes or no) \n",
    "# 19 activities - extra-curricular activities (binary: yes or no) \n",
    "# 20 nursery - attended nursery school (binary: yes or no) \n",
    "# 21 higher - wants to take higher education (binary: yes or no) \n",
    "# 22 internet - Internet access at home (binary: yes or no) \n",
    "# 23 romantic - with a romantic relationship (binary: yes or no) \n",
    "# 24 famrel - quality of family relationships (numeric: from 1 - very bad to 5 - excellent) \n",
    "# 25 freetime - free time after school (numeric: from 1 - very low to 5 - very high) \n",
    "# 26 goout - going out with friends (numeric: from 1 - very low to 5 - very high) \n",
    "# 27 Dalc - workday alcohol consumption (numeric: from 1 - very low to 5 - very high) \n",
    "# 28 Walc - weekend alcohol consumption (numeric: from 1 - very low to 5 - very high) \n",
    "# 29 health - current health status (numeric: from 1 - very bad to 5 - very good) \n",
    "# 30 absences - number of school absences (numeric: from 0 to 93) \n",
    "\n",
    "# # these grades are related with the course subject, Math or Portuguese: \n",
    "# 31 G1 - first period grade (numeric: from 0 to 20) \n",
    "# 31 G2 - second period grade (numeric: from 0 to 20) \n",
    "# 32 G3 - final grade (numeric: from 0 to 20, output target)"
   ]
  },
  {
   "cell_type": "code",
   "execution_count": 12,
   "metadata": {
    "collapsed": false
   },
   "outputs": [
    {
     "name": "stdout",
     "output_type": "stream",
     "text": [
      "0.6708860759493671\n",
      "0.8459167950693375\n"
     ]
    },
    {
     "data": {
      "image/png": "[encoded data removed]",
      "text/plain": [
       "<Figure size 600x400 with 1 Axes>"
      ]
     },
     "metadata": {},
     "output_type": "display_data"
    },
    {
     "data": {
      "image/png": "[encoded data removed]",
      "text/plain": [
       "<Figure size 600x400 with 1 Axes>"
      ]
     },
     "metadata": {},
     "output_type": "display_data"
    }
   ],
   "source": [
    "import pandas as pd\n",
    "import numpy as np\n",
    "import itertools\n",
    "import matplotlib.pyplot as plt\n",
    "import scipy.stats as stats\n",
    "import sklearn.metrics as metrics\n",
    "from sklearn.metrics import classification_report\n",
    "from sklearn.metrics import confusion_matrix\n",
    "from sklearn.cross_validation import train_test_split\n",
    "from sklearn.ensemble import RandomForestClassifier\n",
    "from sklearn.model_selection import GridSearchCV\n",
    "from sklearn.model_selection import RandomizedSearchCV\n",
    "%matplotlib inline\n",
    "\n",
    "#importing data\n",
    "df_math = pd.read_csv('data/student-mat.csv',delimiter = ';',header=0)\n",
    "df_lang = pd.read_csv('data/student-por.csv',delimiter= ';',header=0)\n",
    "\n",
    "#creating pass/fail column for G3 scores >= 10\n",
    "#These columns will act as our labels 1 for pass 0 for fail\n",
    "y_math = [1 if i >= 10 else 0 for i in df_math['G3']]\n",
    "y_lang = [1 if i >= 10 else 0 for i in df_lang['G3']]\n",
    "\n",
    "print np.sum(y_math) / float(len(y_math))\n",
    "print np.sum(y_lang) / float(len(y_lang))\n",
    "\n",
    "\n",
    "#turning lists into series for later manipulation\n",
    "y_math = pd.Series(y_math)\n",
    "y_lang = pd.Series(y_lang)\n",
    "\n",
    "#remove the G1, G2, and G3 columns from the original df's to create df with feature data only\n",
    "#it was noted that G1 and G2 scores were very good indicators of G3 scores but we want to be able to predict performance without any testing data\n",
    "df_math_X_no_dummy = df_math.drop(['G1','G2','G3'], axis = 1)\n",
    "df_lang_X_no_dummy = df_lang.drop(['G1','G2','G3'], axis = 1)\n",
    "\n",
    "#create dummy variables for features like Gender and drop the first dummy column to elimintae duplicates in data\n",
    "df_math_X = pd.get_dummies(df_math_X_no_dummy, drop_first = True)\n",
    "df_lang_X = pd.get_dummies(df_lang_X_no_dummy, drop_first = True)\n",
    "\n",
    "\n",
    "\n",
    "#plotting distribution of G3 scores\n",
    "plt.figure()\n",
    "_ = df_math['G3'].plot.hist(bins=20)\n",
    "_ = plt.xlabel('G3 score')\n",
    "_ = plt.ylabel('Number of Students')\n",
    "_ = plt.title('Distribution of G3 scores in Math Class')\n",
    "plt.figure()\n",
    "df_lang['G3'].plot.hist(bins=20)\n",
    "_ = plt.xlabel('G3 score')\n",
    "_ = plt.ylabel('Number of Students')\n",
    "_ = plt.title('Distribution of G3 scores in Lang Class')\n",
    "\n",
    "plt.show()"
   ]
  },
  {
   "cell_type": "code",
   "execution_count": 24,
   "metadata": {
    "collapsed": true
   },
   "outputs": [],
   "source": [
    "#copied code for plotting confusion matrix\n",
    "\n",
    "\n",
    "def plot_confusion_matrix(cm, classes,\n",
    "                          normalize=False,\n",
    "                          title='Confusion matrix',\n",
    "                          cmap=plt.cm.Blues):\n",
    "    \"\"\"\n",
    "    This function prints and plots the confusion matrix.\n",
    "    Normalization can be applied by setting `normalize=True`.\n",
    "    \"\"\"\n",
    "    if normalize:\n",
    "        cm = cm.astype('float') / cm.sum(axis=1)[:, np.newaxis]\n",
    "        print(\"Normalized confusion matrix\")\n",
    "    else:\n",
    "        print('Confusion matrix, without normalization')\n",
    "\n",
    "    print(cm)\n",
    "\n",
    "    plt.imshow(cm, interpolation='nearest', cmap=cmap)\n",
    "    plt.title(title)\n",
    "    plt.colorbar()\n",
    "    tick_marks = np.arange(len(classes))\n",
    "    plt.xticks(tick_marks, classes, rotation=45)\n",
    "    plt.yticks(tick_marks, classes)\n",
    "\n",
    "    fmt = '.2f' if normalize else 'd'\n",
    "    thresh = cm.max() / 2.\n",
    "    for i, j in itertools.product(range(cm.shape[0]), range(cm.shape[1])):\n",
    "        plt.text(j, i, format(cm[i, j], fmt),\n",
    "                 horizontalalignment=\"center\",\n",
    "                 color=\"white\" if cm[i, j] > thresh else \"black\")\n",
    "\n",
    "    plt.tight_layout()\n",
    "    plt.ylabel('True label')\n",
    "    plt.xlabel('Predicted label')\n",
    "    \n",
    "    \n",
    "    \n",
    "    \n"
   ]
  },
  {
   "cell_type": "code",
   "execution_count": 20,
   "metadata": {
    "collapsed": false
   },
   "outputs": [
    {
     "name": "stdout",
     "output_type": "stream",
     "text": [
      "265\n",
      "549\n",
      "395\n"
     ]
    },
    {
     "data": {
      "image/png": "[encoded data removed]",
      "text/plain": [
       "<Figure size 600x400 with 1 Axes>"
      ]
     },
     "metadata": {},
     "output_type": "display_data"
    }
   ],
   "source": [
    "#Binomial CDF for Test scores\n",
    "print y_math.sum()\n",
    "print y_lang.sum()\n",
    "print len(y_math)\n",
    "\n",
    "def binomcdf(df): \n",
    "    n = len(df)\n",
    "    p = df.sum() / float(n)   \n",
    "    y = []\n",
    "    for i in range(n):\n",
    "        bi = stats.binom.cdf(i, n, p)\n",
    "        y.append(bi)\n",
    "          \n",
    "    last = stats.binom.cdf(n, n, p)     \n",
    "    y.append(last)\n",
    "    x = np.arange(0,n+1,1)\n",
    "    plt.scatter(x, y)\n",
    "    plt.show()\n",
    "\n",
    "binomcdf(y_math)"
   ]
  },
  {
   "cell_type": "code",
   "execution_count": 21,
   "metadata": {
    "collapsed": false
   },
   "outputs": [
    {
     "name": "stdout",
     "output_type": "stream",
     "text": [
      "math class\n",
      "            absolute_correlation  correlation\n",
      "failures                0.337731    -0.337731\n",
      "goout                   0.183399    -0.183399\n",
      "age                     0.179645    -0.179645\n",
      "higher_yes              0.157708     0.157708\n",
      "Medu                    0.115396     0.115396\n",
      "\n",
      "language class\n",
      "            absolute_correlation  correlation\n",
      "failures                0.380237    -0.380237\n",
      "higher_yes              0.309708     0.309708\n",
      "school_MS               0.297217    -0.297217\n",
      "studytime               0.165111     0.165111\n",
      "Fedu                    0.146249     0.146249\n"
     ]
    }
   ],
   "source": [
    "#Correlation values for each variable compared to the pass/fail coulmn\n",
    "\n",
    "#'school', 'sex', 'age', 'address', 'famsize', 'Pstatus', 'Medu', 'Fedu', 'Mjob', 'Fjob', 'reason', 'guardian', 'traveltime', 'studytime', 'failures', 'schoolsup', 'famsup', 'paid', 'activities', 'nursery', 'higher', 'internet', 'romantic', 'famrel', 'freetime', 'goout', 'Dalc', 'Walc', 'health', 'absences', 'G1', 'G2', 'G3'\n",
    "\n",
    "\n",
    "#turning lists into series for later manipulation .astype(bool)\n",
    "y_math = pd.Series(y_math)\n",
    "\n",
    "y_lang = pd.Series(y_lang)\n",
    "\n",
    "\n",
    "\n",
    "#remove the G3 column from the original df's to create df with feature data only\n",
    "df_math_X = df_math.drop(['G1','G2','G3'], axis = 1)\n",
    "df_lang_X = df_lang.drop(['G1','G2','G3'], axis = 1)\n",
    "\n",
    "#create dummy variables for features like Gender and drop the first dummy column to elimintae duplicates in data\n",
    "df_math_X = pd.get_dummies(df_math_X, drop_first = True)\n",
    "df_lang_X = pd.get_dummies(df_lang_X, drop_first = True)\n",
    "\n",
    "\n",
    "#correlation functions for math and lang calss data set\n",
    "def corr(df,y,class_name = 'course'):\n",
    "    feature_name = []\n",
    "    corr_array = []\n",
    "    for i in list(df):\n",
    "        corr = df[i].corr(y)\n",
    "        feature_name.append(i)\n",
    "        corr_array.append(corr)\n",
    "    \n",
    "    abs_corr = np.absolute(corr_array)\n",
    "    df_corr = pd.DataFrame({'correlation':corr_array, 'absolute_correlation':abs_corr}, index = feature_name)\n",
    "    return df_corr\n",
    "\n",
    "#MATH and LANG CLASS CORRELATIONS\n",
    "math_correlations = corr(df_math_X, y_math, 'math')\n",
    "lang_correlations = corr(df_lang_X, y_lang, 'math')\n",
    "\n",
    "print 'math class'\n",
    "print math_correlations.sort_values('absolute_correlation', ascending = False).head()\n",
    "print\n",
    "print 'language class'\n",
    "print lang_correlations.sort_values('absolute_correlation', ascending = False).head()\n",
    "\n",
    "\n",
    "# for m in math_correlations.keys():\n",
    "#     print 'Correlation',m,' and passing for math and lang are: ', \"{0:.3f}\".format(math_correlations[m]),',',\"{0:.3f}\".format(lang_correlations[m])  \n",
    "\n",
    "# plt.figure()\n",
    "# pd.scatter_matrix(df_math_X.iloc[:10], y_math, figsize=[12,12], s = 150, marker = 'D')\n",
    "# plt.show()\n"
   ]
  },
  {
   "cell_type": "code",
   "execution_count": 16,
   "metadata": {
    "collapsed": false
   },
   "outputs": [],
   "source": [
    "# plt.figure()\n",
    "# pd.plotting.scatter_matrix(df_math_X, c = y_math, figsize=[12,12], s = 150, marker = 'D')\n",
    "# plt.show()\n"
   ]
  },
  {
   "cell_type": "markdown",
   "metadata": {},
   "source": [
    "# Basic RandomForest"
   ]
  },
  {
   "cell_type": "markdown",
   "metadata": {},
   "source": [
    "## Math Class"
   ]
  },
  {
   "cell_type": "code",
   "execution_count": 22,
   "metadata": {
    "collapsed": false
   },
   "outputs": [
    {
     "name": "stdout",
     "output_type": "stream",
     "text": [
      "math RF training score:  1.0\n",
      "math RF test score:  0.6302521008403361\n"
     ]
    }
   ],
   "source": [
    "#MATH CLASS MODEL \n",
    "\n",
    "# create calssifier\n",
    "forest = RandomForestClassifier(n_estimators = 10)\n",
    "\n",
    "# split data into training and test sets\n",
    "X_train_m, X_test_m, y_train_m, y_test_m = train_test_split(df_math_X,y_math,test_size = 0.3, random_state = 21, stratify = y_math)\n",
    "\n",
    "#fit classifier to math and lang training data\n",
    "forest_m = forest.fit(X_train_m,y_train_m)\n",
    "train_score_rf_m = forest_m.score(X_train_m,y_train_m)\n",
    "print \"math RF training score: \",train_score_rf_m\n",
    "#predict y outcomes based on X testing data\n",
    "#also return a score on how well model did\n",
    "y_pred_rf_m = forest_m.predict(X_test_m)\n",
    "model_score_rf_m = forest_m.score(X_test_m,y_test_m)\n",
    "print \"math RF test score: \",model_score_rf_m\n",
    "\n"
   ]
  },
  {
   "cell_type": "code",
   "execution_count": 29,
   "metadata": {
    "collapsed": false
   },
   "outputs": [
    {
     "name": "stdout",
     "output_type": "stream",
     "text": [
      "Confusion matrix, without normalization\n",
      "[[12 27]\n",
      " [17 63]]\n",
      "Normalized confusion matrix\n",
      "[[0.31 0.69]\n",
      " [0.21 0.79]]\n"
     ]
    },
    {
     "data": {
      "image/png": "[encoded data removed]",
      "text/plain": [
       "<Figure size 600x400 with 2 Axes>"
      ]
     },
     "metadata": {},
     "output_type": "display_data"
    },
    {
     "data": {
      "image/png": "[encoded data removed]",
      "text/plain": [
       "<Figure size 600x400 with 2 Axes>"
      ]
     },
     "metadata": {},
     "output_type": "display_data"
    },
    {
     "name": "stdout",
     "output_type": "stream",
     "text": [
      "             precision    recall  f1-score   support\n",
      "\n",
      "       Fail       0.41      0.31      0.35        39\n",
      "       Pass       0.70      0.79      0.74        80\n",
      "\n",
      "avg / total       0.61      0.63      0.61       119\n",
      "\n"
     ]
    }
   ],
   "source": [
    "#Model scoring metrics and confusion matrix presented below\n",
    "\n",
    "clf_rep = metrics.precision_recall_fscore_support(y_test_m, y_pred_rf_m)\n",
    "\n",
    "out_dict = {\n",
    "             \"precision\" :clf_rep[0].round(2)\n",
    "            ,\"recall\" : clf_rep[1].round(2)\n",
    "            ,\"f1-score\" : clf_rep[2].round(2)\n",
    "            ,\"support\" : clf_rep[3]\n",
    "            }\n",
    "out_df = pd.DataFrame(out_dict, index = target_names)\n",
    "\n",
    "\n",
    "\n",
    "#confusion matrix and necessary plot variables\n",
    "cm_m = confusion_matrix(y_test_m, y_pred_rf_m)\n",
    "target_names = ['Fail', 'Pass']\n",
    "np.set_printoptions(precision=2)\n",
    "    \n",
    "# Plot non-normalized confusion matrix\n",
    "plt.figure()\n",
    "plot_confusion_matrix(cm_m, classes=target_names,\n",
    "                      title='Random Forest Math confusion matrix')\n",
    "# Plot normalized confusion matrix\n",
    "plt.figure()\n",
    "plot_confusion_matrix(cm_m, classes=target_names, normalize=True,\n",
    "                      title='Random Forest Math normalized confusion matrix')\n",
    "\n",
    "\n",
    "plt.show()\n",
    "\n",
    "math_forest_report = classification_report(y_test_m, y_pred_rf_m, target_names = target_names)\n",
    "print math_forest_report"
   ]
  },
  {
   "cell_type": "markdown",
   "metadata": {},
   "source": [
    "## Lang Class"
   ]
  },
  {
   "cell_type": "code",
   "execution_count": 30,
   "metadata": {
    "collapsed": false
   },
   "outputs": [
    {
     "name": "stdout",
     "output_type": "stream",
     "text": [
      "lang RF training score:  0.9933920704845814\n",
      "lang RF test score:  0.8358974358974359\n"
     ]
    }
   ],
   "source": [
    "#LANG CLASS MODEL\n",
    "\n",
    "# create calssifier\n",
    "forest = RandomForestClassifier(n_estimators = 10)\n",
    "\n",
    "# split data into training and test sets\n",
    "X_train_l, X_test_l, y_train_l, y_test_l = train_test_split(df_lang_X,y_lang,test_size = 0.3, random_state = 21, stratify = y_lang)\n",
    "\n",
    "#fit classifier to math and lang training data\n",
    "forest_l = forest.fit(X_train_l,y_train_l)\n",
    "\n",
    "#predict y outcomes based on X testing data\n",
    "#also return a score on how well model did\n",
    "y_pred_rf_l = forest_l.predict(X_test_l)\n",
    "train_score_rf_l = forest_l.score(X_train_l,y_train_l)\n",
    "print \"lang RF training score: \", train_score_rf_l\n",
    "model_score_rf_l = forest_l.score(X_test_l,y_test_l)\n",
    "print \"lang RF test score: \", model_score_rf_l\n",
    "\n"
   ]
  },
  {
   "cell_type": "code",
   "execution_count": 32,
   "metadata": {
    "collapsed": false
   },
   "outputs": [
    {
     "name": "stdout",
     "output_type": "stream",
     "text": [
      "Confusion matrix, without normalization\n",
      "[[  9  21]\n",
      " [ 11 154]]\n",
      "Normalized confusion matrix\n",
      "[[0.3  0.7 ]\n",
      " [0.07 0.93]]\n"
     ]
    },
    {
     "data": {
      "image/png": "[encoded data removed]",
      "text/plain": [
       "<Figure size 600x400 with 2 Axes>"
      ]
     },
     "metadata": {},
     "output_type": "display_data"
    },
    {
     "data": {
      "image/png": "[encoded data removed]",
      "text/plain": [
       "<Figure size 600x400 with 2 Axes>"
      ]
     },
     "metadata": {},
     "output_type": "display_data"
    },
    {
     "name": "stdout",
     "output_type": "stream",
     "text": [
      "             precision    recall  f1-score   support\n",
      "\n",
      "       Fail       0.45      0.30      0.36        30\n",
      "       Pass       0.88      0.93      0.91       165\n",
      "\n",
      "avg / total       0.81      0.84      0.82       195\n",
      "\n"
     ]
    }
   ],
   "source": [
    "#confusion matrix plot function\n",
    "cm_l = confusion_matrix(y_test_l, y_pred_rf_l)\n",
    "target_names = ['Fail', 'Pass']\n",
    "np.set_printoptions(precision=2)\n",
    "\n",
    "#Lang Confusion Matricies    \n",
    "plt.figure()\n",
    "plot_confusion_matrix(cm_l, classes=target_names,\n",
    "                      title='Random Forest Lang confusion matrix')\n",
    "# Plot normalized confusion matrix\n",
    "plt.figure()\n",
    "plot_confusion_matrix(cm_l, classes=target_names, normalize=True,\n",
    "                      title='Random Forest Lang normalized confusion matrix')\n",
    "\n",
    "plt.show()\n",
    "\n",
    "lang_forest_report = classification_report(y_test_l, y_pred_rf_l, target_names = target_names)\n",
    "print lang_forest_report"
   ]
  },
  {
   "cell_type": "markdown",
   "metadata": {},
   "source": [
    "# SMOTETomek models\n",
    "\n",
    "\n"
   ]
  },
  {
   "cell_type": "code",
   "execution_count": 33,
   "metadata": {
    "collapsed": true
   },
   "outputs": [],
   "source": [
    "from imblearn.combine import SMOTETomek\n",
    "smto = SMOTETomek(ratio = 'minority', random_state = 16)"
   ]
  },
  {
   "cell_type": "markdown",
   "metadata": {},
   "source": [
    "## Math Class\n"
   ]
  },
  {
   "cell_type": "code",
   "execution_count": 35,
   "metadata": {
    "collapsed": false
   },
   "outputs": [
    {
     "name": "stdout",
     "output_type": "stream",
     "text": [
      "math RF SMOTETomek train score:  0.9944444444444445\n",
      "math RF SMOTETomek test score:  0.6554621848739496\n"
     ]
    }
   ],
   "source": [
    "X_train_smto_m, y_train_smto_m = smto.fit_sample(X_train_m,y_train_m)\n",
    "\n",
    "smto_forest_m = forest.fit(X_train_smto_m, y_train_smto_m)\n",
    "\n",
    "train_score_rf_smto_m = smto_forest_m.score(X_train_smto_m, y_train_smto_m)\n",
    "print \"math RF SMOTETomek train score: \", train_score_rf_smto_m\n",
    "\n",
    "y_pred_rf_smto_m = smto_forest_m.predict(X_test_m)\n",
    "model_score_rf_smto_m = smto_forest_m.score(X_test_m ,y_test_m)\n",
    "print \"math RF SMOTETomek test score: \",model_score_rf_smto_m\n"
   ]
  },
  {
   "cell_type": "code",
   "execution_count": 37,
   "metadata": {
    "collapsed": false
   },
   "outputs": [
    {
     "name": "stdout",
     "output_type": "stream",
     "text": [
      "Confusion matrix, without normalization\n",
      "[[17 22]\n",
      " [19 61]]\n",
      "Normalized confusion matrix\n",
      "[[0.44 0.56]\n",
      " [0.24 0.76]]\n"
     ]
    },
    {
     "data": {
      "image/png": "[encoded data removed]",
      "text/plain": [
       "<Figure size 600x400 with 2 Axes>"
      ]
     },
     "metadata": {},
     "output_type": "display_data"
    },
    {
     "data": {
      "image/png": "[encoded data removed]",
      "text/plain": [
       "<Figure size 600x400 with 2 Axes>"
      ]
     },
     "metadata": {},
     "output_type": "display_data"
    },
    {
     "name": "stdout",
     "output_type": "stream",
     "text": [
      "             precision    recall  f1-score   support\n",
      "\n",
      "       Fail       0.47      0.44      0.45        39\n",
      "       Pass       0.73      0.76      0.75        80\n",
      "\n",
      "avg / total       0.65      0.66      0.65       119\n",
      "\n"
     ]
    }
   ],
   "source": [
    "#confusion matrix and necessary plot variables\n",
    "cm_m_smto = confusion_matrix(y_test_m, y_pred_rf_smto_m)\n",
    "np.set_printoptions(precision=2)\n",
    "    \n",
    "# Plot non-normalized confusion matrix\n",
    "plt.figure()\n",
    "plot_confusion_matrix(cm_m_smto, classes=target_names,\n",
    "                      title='SMOTETomek RF Math confusion matrix')\n",
    "# Plot normalized confusion matrix\n",
    "plt.figure()\n",
    "plot_confusion_matrix(cm_m_smto, classes=target_names, normalize=True,\n",
    "                      title='SMOTETomek RF Math normalized confusion matrix')\n",
    "\n",
    "\n",
    "plt.show()\n",
    "\n",
    "math_smto_forest_report = classification_report(y_test_m, y_pred_rf_smto_m, target_names = target_names)\n",
    "\n",
    "print math_smto_forest_report"
   ]
  },
  {
   "cell_type": "markdown",
   "metadata": {},
   "source": [
    "## Lang Class"
   ]
  },
  {
   "cell_type": "code",
   "execution_count": 38,
   "metadata": {
    "collapsed": false
   },
   "outputs": [
    {
     "name": "stdout",
     "output_type": "stream",
     "text": [
      "lang RF SMOTETomek train score:  0.99609375\n",
      "lang RF SMOTETomek test score:  0.8512820512820513\n"
     ]
    }
   ],
   "source": [
    "X_train_smto_l, y_train_smto_l = smto.fit_sample(X_train_l,y_train_l)\n",
    "\n",
    "smto_forest_l = forest.fit(X_train_smto_l, y_train_smto_l)\n",
    "\n",
    "train_score_rf_smto_l = smto_forest_l.score(X_train_smto_l, y_train_smto_l)\n",
    "print \"lang RF SMOTETomek train score: \", train_score_rf_smto_l\n",
    "\n",
    "y_pred_rf_smto_l = smto_forest_l.predict(X_test_l)\n",
    "model_score_rf_smto_l = smto_forest_l.score(X_test_l,y_test_l)\n",
    "print \"lang RF SMOTETomek test score: \",model_score_rf_smto_l"
   ]
  },
  {
   "cell_type": "code",
   "execution_count": 39,
   "metadata": {
    "collapsed": false
   },
   "outputs": [
    {
     "name": "stdout",
     "output_type": "stream",
     "text": [
      "Confusion matrix, without normalization\n",
      "[[ 12  18]\n",
      " [ 11 154]]\n",
      "Normalized confusion matrix\n",
      "[[0.4  0.6 ]\n",
      " [0.07 0.93]]\n"
     ]
    },
    {
     "data": {
      "image/png": "[encoded data removed]",
      "text/plain": [
       "<Figure size 600x400 with 2 Axes>"
      ]
     },
     "metadata": {},
     "output_type": "display_data"
    },
    {
     "data": {
      "image/png": "[encoded data removed]",
      "text/plain": [
       "<Figure size 600x400 with 2 Axes>"
      ]
     },
     "metadata": {},
     "output_type": "display_data"
    },
    {
     "name": "stdout",
     "output_type": "stream",
     "text": [
      "             precision    recall  f1-score   support\n",
      "\n",
      "       Fail       0.52      0.40      0.45        30\n",
      "       Pass       0.90      0.93      0.91       165\n",
      "\n",
      "avg / total       0.84      0.85      0.84       195\n",
      "\n"
     ]
    }
   ],
   "source": [
    "#confusion matrix plot function\n",
    "cm_l_smto = confusion_matrix(y_test_l, y_pred_rf_smto_l)\n",
    "target_names = ['Fail', 'Pass']\n",
    "np.set_printoptions(precision=2)\n",
    "\n",
    "#Lang Confusion Matricies    \n",
    "plt.figure()\n",
    "plot_confusion_matrix(cm_l_smto, classes=target_names,\n",
    "                      title='SMOTEToemk Lang confusion matrix')\n",
    "# Plot normalized confusion matrix\n",
    "plt.figure()\n",
    "plot_confusion_matrix(cm_l_smto, classes=target_names, normalize=True,\n",
    "                      title='SMOTEToemk Lang normalized confusion matrix')\n",
    "\n",
    "\n",
    "plt.show()\n",
    "\n",
    "\n",
    "lang_smto_forest_report = classification_report(y_test_l, y_pred_rf_smto_l, target_names = target_names)\n",
    "\n",
    "print lang_smto_forest_report"
   ]
  },
  {
   "cell_type": "markdown",
   "metadata": {},
   "source": [
    "# GridSearchCV RandomForest models"
   ]
  },
  {
   "cell_type": "code",
   "execution_count": 40,
   "metadata": {
    "collapsed": true
   },
   "outputs": [],
   "source": [
    "#parameters\n",
    "param_grid = {'n_estimators':[5,10,15,20],'max_depth': [5,10,15,20],'criterion': ['gini','entropy'],'min_samples_split':[5,10,15,20]}\n"
   ]
  },
  {
   "cell_type": "markdown",
   "metadata": {},
   "source": [
    "# Math with CV and Hyperparameter Tuning\n"
   ]
  },
  {
   "cell_type": "code",
   "execution_count": 41,
   "metadata": {
    "collapsed": false
   },
   "outputs": [
    {
     "name": "stdout",
     "output_type": "stream",
     "text": [
      "{'min_samples_split': 20, 'n_estimators': 15, 'criterion': 'gini', 'max_depth': 10}\n",
      "0.9044753086419752\n",
      "0.6788461538461538\n"
     ]
    }
   ],
   "source": [
    "\n",
    "rf_math_final = RandomForestClassifier()\n",
    "\n",
    "rf_math_final_cv = GridSearchCV(rf_math_final,param_grid,cv=5, scoring='roc_auc')\n",
    "\n",
    "rf_math_final_cv.fit(X_train_smto_m, y_train_smto_m)\n",
    "\n",
    "print rf_math_final_cv.best_params_\n",
    "print rf_math_final_cv.best_score_\n",
    "\n",
    "y_pred_final_m = rf_math_final_cv.predict(X_test_m)\n",
    "\n",
    "math_final_score = rf_math_final_cv.score(X_test_m,y_test_m)\n",
    "print math_final_score\n"
   ]
  },
  {
   "cell_type": "code",
   "execution_count": 43,
   "metadata": {
    "collapsed": false
   },
   "outputs": [
    {
     "name": "stdout",
     "output_type": "stream",
     "text": [
      "Confusion matrix, without normalization\n",
      "[[18 21]\n",
      " [14 66]]\n",
      "Normalized confusion matrix\n",
      "[[0.46 0.54]\n",
      " [0.17 0.82]]\n"
     ]
    },
    {
     "data": {
      "image/png": "[encoded data removed]",
      "text/plain": [
       "<Figure size 600x400 with 2 Axes>"
      ]
     },
     "metadata": {},
     "output_type": "display_data"
    },
    {
     "data": {
      "image/png": "[encoded data removed]",
      "text/plain": [
       "<Figure size 600x400 with 2 Axes>"
      ]
     },
     "metadata": {},
     "output_type": "display_data"
    },
    {
     "name": "stdout",
     "output_type": "stream",
     "text": [
      "             precision    recall  f1-score   support\n",
      "\n",
      "       Fail       0.56      0.46      0.51        39\n",
      "       Pass       0.76      0.82      0.79        80\n",
      "\n",
      "avg / total       0.69      0.71      0.70       119\n",
      "\n"
     ]
    }
   ],
   "source": [
    "#confusion matrix plot function\n",
    "cm_m_final = confusion_matrix(y_test_m, y_pred_final_m)\n",
    "target_names = ['Fail', 'Pass']\n",
    "np.set_printoptions(precision=2)\n",
    "\n",
    "#Lang Confusion Matricies    \n",
    "plt.figure()\n",
    "plot_confusion_matrix(cm_m_final, classes=target_names,\n",
    "                      title='SMOTETomek RF CV Math confusion matrix')\n",
    "# Plot normalized confusion matrix\n",
    "plt.figure()\n",
    "plot_confusion_matrix(cm_m_final, classes=target_names, normalize=True,\n",
    "                      title='SMOTETomek RF CV Math normalized confusion matrix')\n",
    "\n",
    "\n",
    "plt.show()\n",
    "\n",
    "\n",
    "math_final_report = classification_report(y_test_m, y_pred_final_m, target_names = target_names)\n",
    "\n",
    "print math_final_report"
   ]
  },
  {
   "cell_type": "markdown",
   "metadata": {},
   "source": [
    "# Lang with CV and Hyperparameter Tuning"
   ]
  },
  {
   "cell_type": "code",
   "execution_count": 44,
   "metadata": {
    "collapsed": false
   },
   "outputs": [
    {
     "name": "stdout",
     "output_type": "stream",
     "text": [
      "{'min_samples_split': 15, 'n_estimators': 20, 'criterion': 'gini', 'max_depth': 15}\n",
      "0.9788271281897926\n",
      "0.655959595959596\n"
     ]
    }
   ],
   "source": [
    "rf_lang_final = RandomForestClassifier()\n",
    "\n",
    "rf_lang_final_cv = GridSearchCV(rf_lang_final,param_grid,cv=5, scoring='roc_auc')\n",
    "\n",
    "rf_lang_final_cv.fit(X_train_smto_l, y_train_smto_l)\n",
    "\n",
    "print rf_lang_final_cv.best_params_\n",
    "print rf_lang_final_cv.best_score_\n",
    "\n",
    "y_pred_final_l = rf_math_final_cv.predict(X_test_l)\n",
    "\n",
    "\n",
    "lang_final_score = rf_math_final_cv.score(X_test_l,y_test_l)\n",
    "print lang_final_score\n"
   ]
  },
  {
   "cell_type": "code",
   "execution_count": 45,
   "metadata": {
    "collapsed": false
   },
   "outputs": [
    {
     "name": "stdout",
     "output_type": "stream",
     "text": [
      "Confusion matrix, without normalization\n",
      "[[ 11  19]\n",
      " [ 43 122]]\n",
      "Normalized confusion matrix\n",
      "[[0.37 0.63]\n",
      " [0.26 0.74]]\n"
     ]
    },
    {
     "data": {
      "image/png": "[encoded data removed]",
      "text/plain": [
       "<Figure size 600x400 with 2 Axes>"
      ]
     },
     "metadata": {},
     "output_type": "display_data"
    },
    {
     "data": {
      "image/png": "[encoded data removed]",
      "text/plain": [
       "<Figure size 600x400 with 2 Axes>"
      ]
     },
     "metadata": {},
     "output_type": "display_data"
    },
    {
     "name": "stdout",
     "output_type": "stream",
     "text": [
      "             precision    recall  f1-score   support\n",
      "\n",
      "       Fail       0.20      0.37      0.26        30\n",
      "       Pass       0.87      0.74      0.80       165\n",
      "\n",
      "avg / total       0.76      0.68      0.72       195\n",
      "\n"
     ]
    }
   ],
   "source": [
    "#confusion matrix plot function\n",
    "cm_l_final = confusion_matrix(y_test_l, y_pred_final_l)\n",
    "target_names = ['Fail', 'Pass']\n",
    "np.set_printoptions(precision=2)\n",
    "\n",
    "#Lang Confusion Matricies    \n",
    "plt.figure()\n",
    "plot_confusion_matrix(cm_l_final, classes=target_names,\n",
    "                      title='SMOTETomek RF CV Lang confusion matrix')\n",
    "# Plot normalized confusion matrix\n",
    "plt.figure()\n",
    "plot_confusion_matrix(cm_l_final, classes=target_names, normalize=True,\n",
    "                      title='SMOTETomek RF CV Lang normalized confusion matrix')\n",
    "\n",
    "\n",
    "plt.show()\n",
    "\n",
    "\n",
    "lang_final_report = classification_report(y_test_l, y_pred_final_l, target_names = target_names)\n",
    "\n",
    "print lang_final_report"
   ]
  },
  {
   "cell_type": "markdown",
   "metadata": {},
   "source": [
    "# CatBoost Models"
   ]
  },
  {
   "cell_type": "code",
   "execution_count": 56,
   "metadata": {
    "collapsed": false
   },
   "outputs": [
    {
     "ename": "AttributeError",
     "evalue": "'numpy.ndarray' object has no attribute 'get_feature_names'",
     "output_type": "error",
     "traceback": [
      "\u001b[1;31m---------------------------------------------------------------------------\u001b[0m",
      "\u001b[1;31mAttributeError\u001b[0m                            Traceback (most recent call last)",
      "\u001b[1;32m<ipython-input-56-ef33f48e5d1e>\u001b[0m in \u001b[0;36m<module>\u001b[1;34m()\u001b[0m\n\u001b[0;32m      7\u001b[0m \u001b[1;33m\u001b[0m\u001b[0m\n\u001b[0;32m      8\u001b[0m \u001b[1;31m#getting cat features\u001b[0m\u001b[1;33m\u001b[0m\u001b[1;33m\u001b[0m\u001b[0m\n\u001b[1;32m----> 9\u001b[1;33m \u001b[0mcat_features\u001b[0m \u001b[1;33m=\u001b[0m \u001b[0mdf_math_X_no_dummy\u001b[0m\u001b[1;33m.\u001b[0m\u001b[0mvalues\u001b[0m\u001b[1;33m.\u001b[0m\u001b[0mget_feature_names\u001b[0m\u001b[1;33m(\u001b[0m\u001b[1;33m)\u001b[0m\u001b[1;33m\u001b[0m\u001b[0m\n\u001b[0m\u001b[0;32m     10\u001b[0m \u001b[1;32mprint\u001b[0m \u001b[0mcat_features\u001b[0m\u001b[1;33m\u001b[0m\u001b[0m\n",
      "\u001b[1;31mAttributeError\u001b[0m: 'numpy.ndarray' object has no attribute 'get_feature_names'"
     ]
    }
   ],
   "source": [
    "from catboost import CatBoostClassifier\n",
    "from catboost import FeaturesData\n",
    "cat = CatBoostClassifier(iterations=2, learning_rate=1, depth=2, loss_function='Logloss')\n",
    "param_grid_cat = {'iterations':[2,3,4,5,6],'learning_rate':[1,3,5,7,9], 'depth':[2,4,6,8,10]}\n",
    "\n",
    "cat_cv = GridSearchCV(cat,param_grid_cat,cv=5, scoring='roc_auc')\n",
    "\n",
    "#getting cat features\n",
    "cat_features = df_math_X_no_dummy.values.get_feature_names()\n",
    "print cat_features"
   ]
  },
  {
   "cell_type": "markdown",
   "metadata": {},
   "source": [
    "## Math Class"
   ]
  },
  {
   "cell_type": "code",
   "execution_count": 51,
   "metadata": {
    "collapsed": false
   },
   "outputs": [
    {
     "ename": "ValueError",
     "evalue": "could not convert string to float: no",
     "output_type": "error",
     "traceback": [
      "\u001b[1;31m---------------------------------------------------------------------------\u001b[0m",
      "\u001b[1;31mValueError\u001b[0m                                Traceback (most recent call last)",
      "\u001b[1;32m<ipython-input-51-353c70ee413a>\u001b[0m in \u001b[0;36m<module>\u001b[1;34m()\u001b[0m\n\u001b[0;32m      1\u001b[0m \u001b[1;31m#setting up training and test sets and resampling with smotetomek\u001b[0m\u001b[1;33m\u001b[0m\u001b[1;33m\u001b[0m\u001b[0m\n\u001b[0;32m      2\u001b[0m \u001b[0mX_train_cat_m\u001b[0m\u001b[1;33m,\u001b[0m \u001b[0my_train_cat_m\u001b[0m\u001b[1;33m,\u001b[0m \u001b[0mX_test_cat_m\u001b[0m\u001b[1;33m,\u001b[0m \u001b[0my_test_cat_m\u001b[0m \u001b[1;33m=\u001b[0m \u001b[0mtrain_test_split\u001b[0m\u001b[1;33m(\u001b[0m\u001b[0mdf_math_X_no_dummy\u001b[0m\u001b[1;33m,\u001b[0m\u001b[0my_math\u001b[0m\u001b[1;33m,\u001b[0m\u001b[0mtest_size\u001b[0m \u001b[1;33m=\u001b[0m \u001b[1;36m0.3\u001b[0m\u001b[1;33m,\u001b[0m \u001b[0mrandom_state\u001b[0m \u001b[1;33m=\u001b[0m \u001b[1;36m21\u001b[0m\u001b[1;33m,\u001b[0m \u001b[0mstratify\u001b[0m \u001b[1;33m=\u001b[0m \u001b[0my_math\u001b[0m\u001b[1;33m)\u001b[0m\u001b[1;33m\u001b[0m\u001b[0m\n\u001b[1;32m----> 3\u001b[1;33m \u001b[0mX_train_cat_smto_m\u001b[0m\u001b[1;33m,\u001b[0m \u001b[0my_train_cat_smto_m\u001b[0m \u001b[1;33m=\u001b[0m \u001b[0msmto\u001b[0m\u001b[1;33m.\u001b[0m\u001b[0mfit_sample\u001b[0m\u001b[1;33m(\u001b[0m\u001b[0mX_train_cat_m\u001b[0m\u001b[1;33m,\u001b[0m\u001b[0my_train_cat_m\u001b[0m\u001b[1;33m)\u001b[0m\u001b[1;33m\u001b[0m\u001b[0m\n\u001b[0m\u001b[0;32m      4\u001b[0m \u001b[1;33m\u001b[0m\u001b[0m\n\u001b[0;32m      5\u001b[0m \u001b[1;31m#Getting the features thast are categorical in nature\u001b[0m\u001b[1;33m\u001b[0m\u001b[1;33m\u001b[0m\u001b[0m\n",
      "\u001b[1;32mC:\\Users\\Python\\Miniconda2\\envs\\tutorial\\lib\\site-packages\\imblearn\\base.pyc\u001b[0m in \u001b[0;36mfit_sample\u001b[1;34m(self, X, y)\u001b[0m\n\u001b[0;32m     86\u001b[0m         \"\"\"\n\u001b[0;32m     87\u001b[0m \u001b[1;33m\u001b[0m\u001b[0m\n\u001b[1;32m---> 88\u001b[1;33m         \u001b[1;32mreturn\u001b[0m \u001b[0mself\u001b[0m\u001b[1;33m.\u001b[0m\u001b[0mfit\u001b[0m\u001b[1;33m(\u001b[0m\u001b[0mX\u001b[0m\u001b[1;33m,\u001b[0m \u001b[0my\u001b[0m\u001b[1;33m)\u001b[0m\u001b[1;33m.\u001b[0m\u001b[0msample\u001b[0m\u001b[1;33m(\u001b[0m\u001b[0mX\u001b[0m\u001b[1;33m,\u001b[0m \u001b[0my\u001b[0m\u001b[1;33m)\u001b[0m\u001b[1;33m\u001b[0m\u001b[0m\n\u001b[0m\u001b[0;32m     89\u001b[0m \u001b[1;33m\u001b[0m\u001b[0m\n\u001b[0;32m     90\u001b[0m     \u001b[1;33m@\u001b[0m\u001b[0mabstractmethod\u001b[0m\u001b[1;33m\u001b[0m\u001b[0m\n",
      "\u001b[1;32mC:\\Users\\Python\\Miniconda2\\envs\\tutorial\\lib\\site-packages\\imblearn\\combine\\smote_tomek.pyc\u001b[0m in \u001b[0;36mfit\u001b[1;34m(self, X, y)\u001b[0m\n\u001b[0;32m    245\u001b[0m \u001b[1;33m\u001b[0m\u001b[0m\n\u001b[0;32m    246\u001b[0m         \"\"\"\n\u001b[1;32m--> 247\u001b[1;33m         \u001b[0mX\u001b[0m\u001b[1;33m,\u001b[0m \u001b[0my\u001b[0m \u001b[1;33m=\u001b[0m \u001b[0mcheck_X_y\u001b[0m\u001b[1;33m(\u001b[0m\u001b[0mX\u001b[0m\u001b[1;33m,\u001b[0m \u001b[0my\u001b[0m\u001b[1;33m,\u001b[0m \u001b[0maccept_sparse\u001b[0m\u001b[1;33m=\u001b[0m\u001b[1;33m[\u001b[0m\u001b[1;34m'csr'\u001b[0m\u001b[1;33m,\u001b[0m \u001b[1;34m'csc'\u001b[0m\u001b[1;33m]\u001b[0m\u001b[1;33m)\u001b[0m\u001b[1;33m\u001b[0m\u001b[0m\n\u001b[0m\u001b[0;32m    248\u001b[0m         \u001b[0my\u001b[0m \u001b[1;33m=\u001b[0m \u001b[0mcheck_target_type\u001b[0m\u001b[1;33m(\u001b[0m\u001b[0my\u001b[0m\u001b[1;33m)\u001b[0m\u001b[1;33m\u001b[0m\u001b[0m\n\u001b[0;32m    249\u001b[0m         \u001b[0mself\u001b[0m\u001b[1;33m.\u001b[0m\u001b[0mratio_\u001b[0m \u001b[1;33m=\u001b[0m \u001b[0mself\u001b[0m\u001b[1;33m.\u001b[0m\u001b[0mratio\u001b[0m\u001b[1;33m\u001b[0m\u001b[0m\n",
      "\u001b[1;32mC:\\Users\\Python\\Miniconda2\\envs\\tutorial\\lib\\site-packages\\sklearn\\utils\\validation.pyc\u001b[0m in \u001b[0;36mcheck_X_y\u001b[1;34m(X, y, accept_sparse, dtype, order, copy, force_all_finite, ensure_2d, allow_nd, multi_output, ensure_min_samples, ensure_min_features, y_numeric, warn_on_dtype, estimator)\u001b[0m\n\u001b[0;32m    571\u001b[0m     X = check_array(X, accept_sparse, dtype, order, copy, force_all_finite,\n\u001b[0;32m    572\u001b[0m                     \u001b[0mensure_2d\u001b[0m\u001b[1;33m,\u001b[0m \u001b[0mallow_nd\u001b[0m\u001b[1;33m,\u001b[0m \u001b[0mensure_min_samples\u001b[0m\u001b[1;33m,\u001b[0m\u001b[1;33m\u001b[0m\u001b[0m\n\u001b[1;32m--> 573\u001b[1;33m                     ensure_min_features, warn_on_dtype, estimator)\n\u001b[0m\u001b[0;32m    574\u001b[0m     \u001b[1;32mif\u001b[0m \u001b[0mmulti_output\u001b[0m\u001b[1;33m:\u001b[0m\u001b[1;33m\u001b[0m\u001b[0m\n\u001b[0;32m    575\u001b[0m         y = check_array(y, 'csr', force_all_finite=True, ensure_2d=False,\n",
      "\u001b[1;32mC:\\Users\\Python\\Miniconda2\\envs\\tutorial\\lib\\site-packages\\sklearn\\utils\\validation.pyc\u001b[0m in \u001b[0;36mcheck_array\u001b[1;34m(array, accept_sparse, dtype, order, copy, force_all_finite, ensure_2d, allow_nd, ensure_min_samples, ensure_min_features, warn_on_dtype, estimator)\u001b[0m\n\u001b[0;32m    446\u001b[0m         \u001b[1;31m# make sure we actually converted to numeric:\u001b[0m\u001b[1;33m\u001b[0m\u001b[1;33m\u001b[0m\u001b[0m\n\u001b[0;32m    447\u001b[0m         \u001b[1;32mif\u001b[0m \u001b[0mdtype_numeric\u001b[0m \u001b[1;32mand\u001b[0m \u001b[0marray\u001b[0m\u001b[1;33m.\u001b[0m\u001b[0mdtype\u001b[0m\u001b[1;33m.\u001b[0m\u001b[0mkind\u001b[0m \u001b[1;33m==\u001b[0m \u001b[1;34m\"O\"\u001b[0m\u001b[1;33m:\u001b[0m\u001b[1;33m\u001b[0m\u001b[0m\n\u001b[1;32m--> 448\u001b[1;33m             \u001b[0marray\u001b[0m \u001b[1;33m=\u001b[0m \u001b[0marray\u001b[0m\u001b[1;33m.\u001b[0m\u001b[0mastype\u001b[0m\u001b[1;33m(\u001b[0m\u001b[0mnp\u001b[0m\u001b[1;33m.\u001b[0m\u001b[0mfloat64\u001b[0m\u001b[1;33m)\u001b[0m\u001b[1;33m\u001b[0m\u001b[0m\n\u001b[0m\u001b[0;32m    449\u001b[0m         \u001b[1;32mif\u001b[0m \u001b[1;32mnot\u001b[0m \u001b[0mallow_nd\u001b[0m \u001b[1;32mand\u001b[0m \u001b[0marray\u001b[0m\u001b[1;33m.\u001b[0m\u001b[0mndim\u001b[0m \u001b[1;33m>=\u001b[0m \u001b[1;36m3\u001b[0m\u001b[1;33m:\u001b[0m\u001b[1;33m\u001b[0m\u001b[0m\n\u001b[0;32m    450\u001b[0m             raise ValueError(\"Found array with dim %d. %s expected <= 2.\"\n",
      "\u001b[1;31mValueError\u001b[0m: could not convert string to float: no"
     ]
    }
   ],
   "source": [
    "#setting up training and test sets and resampling with smotetomek\n",
    "# X_train_cat_m, y_train_cat_m, X_test_cat_m, y_test_cat_m = train_test_split(df_math_X_no_dummy,y_math,test_size = 0.3, random_state = 21, stratify = y_math)\n",
    "# X_train_cat_smto_m, y_train_cat_smto_m = smto.fit_sample(X_train_cat_m,y_train_cat_m)\n",
    "\n",
    "\n",
    "\n",
    "cat_math = cat_cv.fit(df_math_X_no_dummy, y_math, categorical_features_indices)\n",
    "# Get predicted classes\n",
    "y_pred_cat_m = cat_math.predict(X_test_cat_m)\n",
    "# Get predicted probabilities for each class\n",
    "preds_proba = cat_math.predict_proba(X_test_cat_m)\n",
    "# Get predicted RawFormulaVal\n",
    "preds_raw = cat_math.predict(X_test_cat_m, prediction_type='RawFormulaVal')\n",
    "print preds_raw\n",
    "\n",
    "cat_math.eval_metrics(['Precision','Recall','F1','Accuracy', 'AUC'])"
   ]
  },
  {
   "cell_type": "code",
   "execution_count": null,
   "metadata": {
    "collapsed": true
   },
   "outputs": [],
   "source": [
    "#confusion matrix plot function\n",
    "cm_cat_m = confusion_matrix(y_test_cat_m, y_pred_cat_m)\n",
    "target_names = ['Fail', 'Pass']\n",
    "np.set_printoptions(precision=2)\n",
    "\n",
    "#Lang Confusion Matricies    \n",
    "plt.figure()\n",
    "plot_confusion_matrix(cm_cat_m, classes=target_names,\n",
    "                      title='CatBoost Math confusion matrix, without normalization')\n",
    "# Plot normalized confusion matrix\n",
    "plt.figure()\n",
    "plot_confusion_matrix(cm_cat_m, classes=target_names, normalize=True,\n",
    "                      title='CatBoost Math normalized confusion matrix')\n",
    "\n",
    "\n",
    "plt.show()\n",
    "\n",
    "\n",
    "cat_math_report = classification_report(y_test_cat_m, y_pred_cat_m, target_names = target_names)\n",
    "\n",
    "print cat_math_report"
   ]
  },
  {
   "cell_type": "markdown",
   "metadata": {},
   "source": [
    "## Lang Class"
   ]
  },
  {
   "cell_type": "code",
   "execution_count": null,
   "metadata": {
    "collapsed": true
   },
   "outputs": [],
   "source": [
    "#setting up training and test sets and resampling with smotetomek\n",
    "X_train_cat_l, y_train_cat_l, X_test_cat_l, y_test_cat_l = train_test_split(df_lang_X_no_dummy,y_lang,test_size = 0.3, random_state = 21, stratify = y_lang)\n",
    "X_train_cat_smto_l, y_train_cat_smto_l = smto.fit_sample(X_train_cat_l,y_train_cat_l)\n",
    "\n",
    "#Getting the features thast are categorical in nature\n",
    "categorical_features_indices_l = np.where(X_train_cat_smto_l.dtypes != np.float)[0]\n",
    "\n",
    "\n",
    "cat_math = cat_cv.fit(X_train_cat_smto_l, y_train_cat_smto_l, categorical_features_indices_l)\n",
    "# Get predicted classes\n",
    "y_pred_cat_m = cat_math.predict(X_test_cat_l)\n",
    "# Get predicted probabilities for each class\n",
    "preds_proba = cat_math.predict_proba(X_test_cat_l)\n",
    "# Get predicted RawFormulaVal\n",
    "preds_raw = cat_math.predict(X_test_cat_l, prediction_type='RawFormulaVal')\n",
    "print preds_raw\n",
    "\n",
    "cat_math_score = cat_math.score(X_test_cat_l,y_test_cat_l)\n",
    "print cat_math_score"
   ]
  },
  {
   "cell_type": "code",
   "execution_count": null,
   "metadata": {
    "collapsed": true
   },
   "outputs": [],
   "source": [
    "#confusion matrix plot function\n",
    "cm_cat_m = confusion_matrix(y_test_cat_m, y_pred_cat_m)\n",
    "target_names = ['Fail', 'Pass']\n",
    "np.set_printoptions(precision=2)\n",
    "\n",
    "#Lang Confusion Matricies    \n",
    "plt.figure()\n",
    "plot_confusion_matrix(cm_cat_m, classes=target_names,\n",
    "                      title='CatBoost Lang confusion matrix, without normalization')\n",
    "# Plot normalized confusion matrix\n",
    "plt.figure()\n",
    "plot_confusion_matrix(cm_cat_m, classes=target_names, normalize=True,\n",
    "                      title='CatBoost Lang normalized confusion matrix')\n",
    "\n",
    "\n",
    "plt.show()\n",
    "\n",
    "\n",
    "cat_lang_report = classification_report(y_test_cat_l, y_pred_cat_l, target_names = target_names)\n",
    "\n",
    "print cat_lang_report"
   ]
  }
 ],
 "metadata": {
  "kernelspec": {
   "display_name": "Python 2",
   "language": "python",
   "name": "python2"
  },
  "language_info": {
   "codemirror_mode": {
    "name": "ipython",
    "version": 2
   },
   "file_extension": ".py",
   "mimetype": "text/x-python",
   "name": "python",
   "nbconvert_exporter": "python",
   "pygments_lexer": "ipython2",
   "version": "2.7.11"
  }
 },
 "nbformat": 4,
 "nbformat_minor": 0
}
